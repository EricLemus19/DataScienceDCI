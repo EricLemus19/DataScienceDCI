{
 "cells": [
  {
   "cell_type": "markdown",
   "id": "117fa89c",
   "metadata": {},
   "source": [
    "# Librería **NumPy** (Numerical Python)\n",
    "\n",
    "### Librería estándar para trabajar con datos numéricos. Permite generar y manipular datos de manera eficiente. \n",
    "\n",
    "### Incorpora la clase **array**.\n",
    "\n",
    "----------\n",
    "\n",
    "#### arrays (numpy) vs listas (python nativo)\n",
    "\n",
    "Las listas son buenos contenedores para cualquier tipo de objeto, es fácil insertar o eliminar elementos. Sin embargo, el hecho de permitir diferentes tipos de elementos requiere espacio en la memoria para cada uno. Además, las operaciones entre elementos son limitadas.\n",
    "\n",
    "Los arrays son contenedores de **un solo tipo de variables**, ocupan menos memoria y se vuelve mas eficiente su manipulación. Su estructura facilia las operaciones matemáticas entre elementos.\n",
    "\n",
    "----------"
   ]
  },
  {
   "cell_type": "code",
   "execution_count": 1,
   "id": "13199e5a",
   "metadata": {},
   "outputs": [
    {
     "name": "stdout",
     "output_type": "stream",
     "text": [
      "<class 'numpy.ndarray'>\n",
      "<class 'numpy.ndarray'>\n"
     ]
    }
   ],
   "source": [
    "import numpy as np\n",
    "\n",
    "a = np.array([1,2,3,4])\n",
    "\n",
    "lista = ['a','b','c']\n",
    "b = np.array(lista)\n",
    "\n",
    "print(type(a))\n",
    "print(type(b))"
   ]
  },
  {
   "cell_type": "code",
   "execution_count": 2,
   "id": "f6d311bf",
   "metadata": {},
   "outputs": [
    {
     "name": "stdout",
     "output_type": "stream",
     "text": [
      "int64\n",
      "<U1\n"
     ]
    }
   ],
   "source": [
    "print(a.dtype)\n",
    "print(b.dtype)"
   ]
  },
  {
   "cell_type": "code",
   "execution_count": 3,
   "id": "6fb7ab80",
   "metadata": {},
   "outputs": [
    {
     "name": "stdout",
     "output_type": "stream",
     "text": [
      "<U32\n"
     ]
    }
   ],
   "source": [
    "c = np.array(['c',2.9,3,4])\n",
    "print(c.dtype)"
   ]
  },
  {
   "cell_type": "code",
   "execution_count": 4,
   "id": "025d8438",
   "metadata": {},
   "outputs": [
    {
     "data": {
      "text/plain": [
       "array(['c', '2.9', '3', '4'], dtype='<U32')"
      ]
     },
     "execution_count": 4,
     "metadata": {},
     "output_type": "execute_result"
    }
   ],
   "source": [
    "c"
   ]
  },
  {
   "cell_type": "code",
   "execution_count": 5,
   "id": "f6d302ca",
   "metadata": {},
   "outputs": [
    {
     "name": "stdout",
     "output_type": "stream",
     "text": [
      "1D  [1 2 3 4]\n"
     ]
    }
   ],
   "source": [
    "# array de una dimension: vector\n",
    "\n",
    "d1 = np.array([1,2,3,4])\n",
    "print('1D ', d1)\n"
   ]
  },
  {
   "cell_type": "code",
   "execution_count": 6,
   "id": "91a5ae08",
   "metadata": {},
   "outputs": [
    {
     "name": "stdout",
     "output_type": "stream",
     "text": [
      "2D  [[1 2 3 4]\n",
      " [1 2 3 4]]\n"
     ]
    }
   ],
   "source": [
    "# array de dos dimensiones: matriz\n",
    "d2 = np.array([[1,2,3,4],[1,2,3,4]]) #2x4\n",
    "print('2D ', d2)"
   ]
  },
  {
   "cell_type": "code",
   "execution_count": 7,
   "id": "5ae10abb",
   "metadata": {},
   "outputs": [
    {
     "name": "stdout",
     "output_type": "stream",
     "text": [
      "3D  [[[1 2 3 4]\n",
      "  [1 2 3 4]]\n",
      "\n",
      " [[1 2 3 4]\n",
      "  [1 2 3 4]]]\n"
     ]
    }
   ],
   "source": [
    "\n",
    "# array de tres dimensiones: cubo\n",
    "d3 = np.array([[[1,2,3,4],[1,2,3,4]],[[1,2,3,4],[1,2,3,4]]]) #2x4x2\n",
    "print('3D ', d3)"
   ]
  },
  {
   "cell_type": "code",
   "execution_count": 8,
   "id": "305c768e",
   "metadata": {},
   "outputs": [
    {
     "data": {
      "text/plain": [
       "1"
      ]
     },
     "execution_count": 8,
     "metadata": {},
     "output_type": "execute_result"
    }
   ],
   "source": [
    "d3[0][1][0]"
   ]
  },
  {
   "cell_type": "code",
   "execution_count": 9,
   "id": "bd4adc0b",
   "metadata": {},
   "outputs": [
    {
     "data": {
      "text/plain": [
       "[4, 6, 8]"
      ]
     },
     "execution_count": 9,
     "metadata": {},
     "output_type": "execute_result"
    }
   ],
   "source": [
    "lista=[1,2,3,4,5,6,7,8,9,0,1,2,3,4,5,6,7]\n",
    "lista[3:9:2] # elementos con indice del 3 al 9 con saltos de dos"
   ]
  },
  {
   "cell_type": "markdown",
   "id": "f09494f7",
   "metadata": {},
   "source": [
    "## Atributos de un array\n",
    "\n",
    "Características"
   ]
  },
  {
   "cell_type": "code",
   "execution_count": 10,
   "id": "8c3cae18",
   "metadata": {},
   "outputs": [
    {
     "data": {
      "text/plain": [
       "dtype('int64')"
      ]
     },
     "execution_count": 10,
     "metadata": {},
     "output_type": "execute_result"
    }
   ],
   "source": [
    "d3.dtype"
   ]
  },
  {
   "cell_type": "code",
   "execution_count": 11,
   "id": "9400c28e",
   "metadata": {},
   "outputs": [
    {
     "data": {
      "text/plain": [
       "dtype('float64')"
      ]
     },
     "execution_count": 11,
     "metadata": {},
     "output_type": "execute_result"
    }
   ],
   "source": [
    "d3_float = d3.astype('float')\n",
    "d3_float.dtype"
   ]
  },
  {
   "cell_type": "code",
   "execution_count": 12,
   "id": "3a8352af",
   "metadata": {},
   "outputs": [
    {
     "data": {
      "text/plain": [
       "3"
      ]
     },
     "execution_count": 12,
     "metadata": {},
     "output_type": "execute_result"
    }
   ],
   "source": [
    "d3.ndim # numero de dimensiones"
   ]
  },
  {
   "cell_type": "code",
   "execution_count": 13,
   "id": "d2a7ec7d",
   "metadata": {},
   "outputs": [
    {
     "data": {
      "text/plain": [
       "(2, 2, 4)"
      ]
     },
     "execution_count": 13,
     "metadata": {},
     "output_type": "execute_result"
    }
   ],
   "source": [
    "d3.shape"
   ]
  },
  {
   "cell_type": "code",
   "execution_count": 14,
   "id": "b989a70c",
   "metadata": {},
   "outputs": [
    {
     "data": {
      "text/plain": [
       "16"
      ]
     },
     "execution_count": 14,
     "metadata": {},
     "output_type": "execute_result"
    }
   ],
   "source": [
    "d3.size # numero de elementos"
   ]
  },
  {
   "cell_type": "markdown",
   "id": "edd0cdb8",
   "metadata": {},
   "source": [
    "## Funciones generadoras de arrays"
   ]
  },
  {
   "cell_type": "code",
   "execution_count": 15,
   "id": "0518f6f5",
   "metadata": {},
   "outputs": [
    {
     "data": {
      "text/plain": [
       "array([ 3. ,  4.5,  6. ,  7.5,  9. , 10.5, 12. , 13.5, 15. , 16.5, 18. ,\n",
       "       19.5])"
      ]
     },
     "execution_count": 15,
     "metadata": {},
     "output_type": "execute_result"
    }
   ],
   "source": [
    "np.arange(3,20,1.5) #(inicio,fin, paso)"
   ]
  },
  {
   "cell_type": "code",
   "execution_count": 16,
   "id": "cf4517e4",
   "metadata": {},
   "outputs": [
    {
     "data": {
      "text/plain": [
       "array([ 3.        ,  3.70833333,  4.41666667,  5.125     ,  5.83333333,\n",
       "        6.54166667,  7.25      ,  7.95833333,  8.66666667,  9.375     ,\n",
       "       10.08333333, 10.79166667, 11.5       , 12.20833333, 12.91666667,\n",
       "       13.625     , 14.33333333, 15.04166667, 15.75      , 16.45833333,\n",
       "       17.16666667, 17.875     , 18.58333333, 19.29166667, 20.        ])"
      ]
     },
     "execution_count": 16,
     "metadata": {},
     "output_type": "execute_result"
    }
   ],
   "source": [
    "np.linspace(3,20,25) #(inicio,fin, numero de valores en el intervalo)"
   ]
  },
  {
   "cell_type": "code",
   "execution_count": 17,
   "id": "dd905223",
   "metadata": {},
   "outputs": [
    {
     "data": {
      "text/plain": [
       "array([0., 0., 0., 0., 0.])"
      ]
     },
     "execution_count": 17,
     "metadata": {},
     "output_type": "execute_result"
    }
   ],
   "source": [
    "np.zeros(5)"
   ]
  },
  {
   "cell_type": "code",
   "execution_count": 18,
   "id": "4c3b52a0",
   "metadata": {},
   "outputs": [
    {
     "data": {
      "text/plain": [
       "array([23., 23., 23., 23., 23., 23., 23., 23., 23., 23.])"
      ]
     },
     "execution_count": 18,
     "metadata": {},
     "output_type": "execute_result"
    }
   ],
   "source": [
    "np.ones(10)*23"
   ]
  },
  {
   "cell_type": "code",
   "execution_count": 19,
   "id": "b219a951",
   "metadata": {},
   "outputs": [
    {
     "data": {
      "text/plain": [
       "array([[0., 0., 0., 0., 0.],\n",
       "       [0., 0., 0., 0., 0.],\n",
       "       [0., 0., 0., 0., 0.],\n",
       "       [0., 0., 0., 0., 0.],\n",
       "       [0., 0., 0., 0., 0.]])"
      ]
     },
     "execution_count": 19,
     "metadata": {},
     "output_type": "execute_result"
    }
   ],
   "source": [
    "np.zeros((5,5))"
   ]
  },
  {
   "cell_type": "code",
   "execution_count": 20,
   "id": "8fd03e91",
   "metadata": {},
   "outputs": [
    {
     "data": {
      "text/plain": [
       "array([[1., 0., 0., 0.],\n",
       "       [0., 1., 0., 0.],\n",
       "       [0., 0., 1., 0.],\n",
       "       [0., 0., 0., 1.]])"
      ]
     },
     "execution_count": 20,
     "metadata": {},
     "output_type": "execute_result"
    }
   ],
   "source": [
    "np.identity(4)"
   ]
  },
  {
   "cell_type": "markdown",
   "id": "a40416e6",
   "metadata": {},
   "source": [
    "#### Números aleatorios\n",
    "\n",
    "* rand :  entre 0 y 1\n",
    "\n",
    "* randn : distribución normal estándar\n",
    "\n",
    "* randint : enteros\n",
    "\n"
   ]
  },
  {
   "cell_type": "code",
   "execution_count": 21,
   "id": "ba021b8c",
   "metadata": {},
   "outputs": [
    {
     "data": {
      "text/plain": [
       "array([0.17281117, 0.9795514 , 0.57026081, 0.72106321, 0.69111926])"
      ]
     },
     "execution_count": 21,
     "metadata": {},
     "output_type": "execute_result"
    }
   ],
   "source": [
    "np.random.rand(5) #0-1"
   ]
  },
  {
   "cell_type": "code",
   "execution_count": 22,
   "id": "6549d52e",
   "metadata": {},
   "outputs": [
    {
     "data": {
      "text/plain": [
       "array([5.19549357, 7.63792198, 6.65700323, 5.12726326, 7.78837506,\n",
       "       6.45518467, 7.19215061, 4.49359774, 4.48291616, 5.48197317,\n",
       "       4.75955594, 5.38058208, 5.12585468, 5.95172545, 4.743479  ,\n",
       "       5.85772661, 6.34421945, 7.02021068, 6.33121768, 4.62702633])"
      ]
     },
     "execution_count": 22,
     "metadata": {},
     "output_type": "execute_result"
    }
   ],
   "source": [
    "np.random.rand(20)*4 + 4 #cualquier rango"
   ]
  },
  {
   "cell_type": "code",
   "execution_count": 23,
   "id": "04306826",
   "metadata": {},
   "outputs": [
    {
     "data": {
      "text/plain": [
       "array([ 0.02494767, -0.36442551,  0.20036242])"
      ]
     },
     "execution_count": 23,
     "metadata": {},
     "output_type": "execute_result"
    }
   ],
   "source": [
    "np.random.randn(3) # distribucion normal"
   ]
  },
  {
   "cell_type": "code",
   "execution_count": 24,
   "id": "52d5aa92",
   "metadata": {},
   "outputs": [
    {
     "data": {
      "text/plain": [
       "array([[ 2.06044711,  1.00247255, -0.67222007],\n",
       "       [ 0.69297217, -0.29951467, -2.00711422],\n",
       "       [-1.87241488, -0.06264069, -0.62756137]])"
      ]
     },
     "execution_count": 24,
     "metadata": {},
     "output_type": "execute_result"
    }
   ],
   "source": [
    "np.random.randn(3,3) # distribucion normal"
   ]
  },
  {
   "cell_type": "code",
   "execution_count": 25,
   "id": "dc57fa3d",
   "metadata": {},
   "outputs": [
    {
     "data": {
      "text/plain": [
       "array([29, 44, 73, 34, 50])"
      ]
     },
     "execution_count": 25,
     "metadata": {},
     "output_type": "execute_result"
    }
   ],
   "source": [
    "np.random.randint(20,80,5) #(inicio,fin,cuantos)"
   ]
  },
  {
   "cell_type": "markdown",
   "id": "d75ff261",
   "metadata": {},
   "source": [
    "## Manipulación de arrays\n",
    "\n",
    "[Array manipulation routines](https://numpy.org/doc/stable/reference/routines.array-manipulation.html)\n",
    "\n",
    "append, insert, concat, reshape"
   ]
  },
  {
   "cell_type": "code",
   "execution_count": 26,
   "id": "3eee681f",
   "metadata": {},
   "outputs": [
    {
     "name": "stdout",
     "output_type": "stream",
     "text": [
      "[[[1 2 3 4]\n",
      "  [1 2 3 4]]\n",
      "\n",
      " [[1 2 3 4]\n",
      "  [1 2 3 4]]]\n",
      "(2, 2, 4)\n"
     ]
    }
   ],
   "source": [
    "print(d3)\n",
    "print(d3.shape)"
   ]
  },
  {
   "cell_type": "code",
   "execution_count": 27,
   "id": "9e42750b",
   "metadata": {},
   "outputs": [
    {
     "name": "stdout",
     "output_type": "stream",
     "text": [
      "[[1 2 3 4]\n",
      " [1 2 3 4]\n",
      " [1 2 3 4]\n",
      " [1 2 3 4]]\n",
      "(4, 4)\n"
     ]
    }
   ],
   "source": [
    "d3_a_d2 = d3.reshape(4,4)\n",
    "print(d3_a_d2)\n",
    "print(d3_a_d2.shape)"
   ]
  },
  {
   "cell_type": "code",
   "execution_count": 28,
   "id": "8321ad8d",
   "metadata": {},
   "outputs": [
    {
     "data": {
      "text/plain": [
       "array([   2,    4,   -4,    9,   -1, 1000, 2222,    1,    2,    3,    4,\n",
       "          4,    4,    4,    4])"
      ]
     },
     "execution_count": 28,
     "metadata": {},
     "output_type": "execute_result"
    }
   ],
   "source": [
    "x = np.array([2, 4, -4, 9, -1])\n",
    "\n",
    "np.concatenate((x, [1000, 2222], d3_a_d2[0], d3_a_d2[:,3]))"
   ]
  },
  {
   "cell_type": "code",
   "execution_count": 29,
   "id": "83ac9d78",
   "metadata": {},
   "outputs": [
    {
     "data": {
      "text/plain": [
       "array([  2,   4,  -4,   9,  -1, 100])"
      ]
     },
     "execution_count": 29,
     "metadata": {},
     "output_type": "execute_result"
    }
   ],
   "source": [
    "np.append(x, 100) "
   ]
  },
  {
   "cell_type": "code",
   "execution_count": 30,
   "id": "05b50f75",
   "metadata": {},
   "outputs": [
    {
     "data": {
      "text/plain": [
       "array([ 2.,  4., -4.,  9., -1., nan])"
      ]
     },
     "execution_count": 30,
     "metadata": {},
     "output_type": "execute_result"
    }
   ],
   "source": [
    "np.append(x, np.nan)"
   ]
  },
  {
   "cell_type": "code",
   "execution_count": 31,
   "id": "7a598eb1",
   "metadata": {},
   "outputs": [
    {
     "data": {
      "text/plain": [
       "array([  2,   4, 200,  -4,   9,  -1])"
      ]
     },
     "execution_count": 31,
     "metadata": {},
     "output_type": "execute_result"
    }
   ],
   "source": [
    "np.insert(x, 2, 200) # insertar 200 en la posicion con indice 2\n"
   ]
  },
  {
   "cell_type": "code",
   "execution_count": 32,
   "id": "1ee16a58",
   "metadata": {},
   "outputs": [
    {
     "data": {
      "text/plain": [
       "array([ 0,  1,  2,  3,  4,  5,  6,  7,  8,  9, 10, 11, 12, 13, 14, 15, 16,\n",
       "       17, 18, 19])"
      ]
     },
     "execution_count": 32,
     "metadata": {},
     "output_type": "execute_result"
    }
   ],
   "source": [
    "x = np.arange(20)\n",
    "x"
   ]
  },
  {
   "cell_type": "code",
   "execution_count": 33,
   "id": "6ca65013",
   "metadata": {},
   "outputs": [
    {
     "data": {
      "text/plain": [
       "array([   0,    1,  222,    2,    3,  444,    4,    5,    6,    7,    8,\n",
       "          9,   10,   11,   12,   13,   14,   15,   16,   17,   18, -111,\n",
       "         19])"
      ]
     },
     "execution_count": 33,
     "metadata": {},
     "output_type": "execute_result"
    }
   ],
   "source": [
    "np.insert(x, [2, 4, -1], [222, 444, -111])"
   ]
  },
  {
   "cell_type": "code",
   "execution_count": 34,
   "id": "eaf47af1",
   "metadata": {},
   "outputs": [
    {
     "data": {
      "text/plain": [
       "array([1, 2, 3, 4])"
      ]
     },
     "execution_count": 34,
     "metadata": {},
     "output_type": "execute_result"
    }
   ],
   "source": [
    "d2[0]"
   ]
  },
  {
   "cell_type": "code",
   "execution_count": 35,
   "id": "26eb1915",
   "metadata": {},
   "outputs": [
    {
     "data": {
      "text/plain": [
       "array([5, 1, 2, 3, 4])"
      ]
     },
     "execution_count": 35,
     "metadata": {},
     "output_type": "execute_result"
    }
   ],
   "source": [
    "np.insert(d2[0], 0,5)"
   ]
  },
  {
   "cell_type": "code",
   "execution_count": 36,
   "id": "a6391b08",
   "metadata": {},
   "outputs": [
    {
     "data": {
      "text/plain": [
       "array([[1, 2, 3, 4],\n",
       "       [1, 2, 3, 4]])"
      ]
     },
     "execution_count": 36,
     "metadata": {},
     "output_type": "execute_result"
    }
   ],
   "source": [
    "d2"
   ]
  },
  {
   "cell_type": "code",
   "execution_count": 37,
   "id": "bc72c2dc-3ef8-4eff-8279-01cc3e1dcb1c",
   "metadata": {},
   "outputs": [
    {
     "data": {
      "text/plain": [
       "array([[ 1,  2,  3,  4],\n",
       "       [ 1,  2,  3,  4],\n",
       "       [ 7,  8,  9, 10]])"
      ]
     },
     "execution_count": 37,
     "metadata": {},
     "output_type": "execute_result"
    }
   ],
   "source": [
    "np.append(d2, [[7, 8, 9, 10]], axis=0)"
   ]
  },
  {
   "cell_type": "code",
   "execution_count": 38,
   "id": "3035946b-8e8f-4ddc-918c-4ae6ecccd602",
   "metadata": {},
   "outputs": [
    {
     "data": {
      "text/plain": [
       "array([[1, 2, 3, 4],\n",
       "       [1, 2, 3, 4]])"
      ]
     },
     "execution_count": 38,
     "metadata": {},
     "output_type": "execute_result"
    }
   ],
   "source": [
    "d2"
   ]
  },
  {
   "cell_type": "code",
   "execution_count": 39,
   "id": "7b5ba6fe-7384-4309-b491-47693153203e",
   "metadata": {},
   "outputs": [],
   "source": [
    "#np.append(d2, [[7, 8]], axis=1) # error"
   ]
  },
  {
   "cell_type": "code",
   "execution_count": 40,
   "id": "0368e88d-29bb-49f3-92ce-15f6c1556fc6",
   "metadata": {},
   "outputs": [
    {
     "data": {
      "text/plain": [
       "array([[1, 2, 3, 4, 7],\n",
       "       [1, 2, 3, 4, 8]])"
      ]
     },
     "execution_count": 40,
     "metadata": {},
     "output_type": "execute_result"
    }
   ],
   "source": [
    "a_to_add = np.reshape([7,8], (2,1)) # array de dos filas y una columna\n",
    "\n",
    "np.append(d2, a_to_add, axis=1)"
   ]
  },
  {
   "cell_type": "code",
   "execution_count": 41,
   "id": "fff29c57-73bf-47d5-a303-12e828f6315c",
   "metadata": {},
   "outputs": [
    {
     "data": {
      "text/plain": [
       "array([[1, 2, 3, 4, 7],\n",
       "       [1, 2, 3, 4, 8]])"
      ]
     },
     "execution_count": 41,
     "metadata": {},
     "output_type": "execute_result"
    }
   ],
   "source": [
    "np.append(d2, [[7],[8]], axis=1)"
   ]
  },
  {
   "cell_type": "code",
   "execution_count": 42,
   "id": "1c1fe95e-48b9-45da-a8df-3806ac479edd",
   "metadata": {},
   "outputs": [
    {
     "data": {
      "text/plain": [
       "array([[ 1, 10,  2,  3,  4],\n",
       "       [ 1, 10,  2,  3,  4]])"
      ]
     },
     "execution_count": 42,
     "metadata": {},
     "output_type": "execute_result"
    }
   ],
   "source": [
    "np.insert(d2, 1, 10, axis=1)"
   ]
  },
  {
   "cell_type": "code",
   "execution_count": 43,
   "id": "e44b4104-8c41-41b7-8d56-7067be475369",
   "metadata": {},
   "outputs": [
    {
     "data": {
      "text/plain": [
       "array([[1, 7, 2, 3, 4],\n",
       "       [1, 8, 2, 3, 4]])"
      ]
     },
     "execution_count": 43,
     "metadata": {},
     "output_type": "execute_result"
    }
   ],
   "source": [
    "np.insert(d2, 1, [[7,8]], axis=1)"
   ]
  },
  {
   "cell_type": "code",
   "execution_count": 44,
   "id": "a9ec363c-1b6b-4350-8364-d3abd43a3d86",
   "metadata": {},
   "outputs": [
    {
     "data": {
      "text/plain": [
       "array([[ 1,  2,  3,  4],\n",
       "       [10, 10, 10, 10],\n",
       "       [ 1,  2,  3,  4]])"
      ]
     },
     "execution_count": 44,
     "metadata": {},
     "output_type": "execute_result"
    }
   ],
   "source": [
    "np.insert(d2, 1, 10, axis=0)"
   ]
  },
  {
   "cell_type": "markdown",
   "id": "8979c88a",
   "metadata": {},
   "source": [
    "## Operaciones con arrays\n",
    "\n",
    "Operaciones elemento a elemento"
   ]
  },
  {
   "cell_type": "code",
   "execution_count": 45,
   "id": "073734cf",
   "metadata": {},
   "outputs": [
    {
     "data": {
      "text/plain": [
       "array([0, 1, 2, 3, 4])"
      ]
     },
     "execution_count": 45,
     "metadata": {},
     "output_type": "execute_result"
    }
   ],
   "source": [
    "x = np.array([2.0, 4.6, -4.6, 9.3, -1.2])\n",
    "\n",
    "y = np.arange(len(x))\n",
    "y"
   ]
  },
  {
   "cell_type": "code",
   "execution_count": 46,
   "id": "e494dfed",
   "metadata": {},
   "outputs": [
    {
     "data": {
      "text/plain": [
       "array([ 0,  1,  4,  9, 16])"
      ]
     },
     "execution_count": 46,
     "metadata": {},
     "output_type": "execute_result"
    }
   ],
   "source": [
    "y*y"
   ]
  },
  {
   "cell_type": "code",
   "execution_count": 47,
   "id": "a7cc7962",
   "metadata": {},
   "outputs": [
    {
     "data": {
      "text/plain": [
       "array([ 4. , 10.2, -5.2, 27.6, 13.6])"
      ]
     },
     "execution_count": 47,
     "metadata": {},
     "output_type": "execute_result"
    }
   ],
   "source": [
    "y*y + 2*x"
   ]
  },
  {
   "cell_type": "code",
   "execution_count": 48,
   "id": "626f42db",
   "metadata": {},
   "outputs": [
    {
     "data": {
      "text/plain": [
       "array([   59.   ,  1056.208,  -145.608, 21019.576,  2510.456])"
      ]
     },
     "execution_count": 48,
     "metadata": {},
     "output_type": "execute_result"
    }
   ],
   "source": [
    "z = y*y + 2*x\n",
    "z**3 - 5"
   ]
  },
  {
   "cell_type": "code",
   "execution_count": 49,
   "id": "83e7bbde",
   "metadata": {},
   "outputs": [
    {
     "data": {
      "text/plain": [
       "50.2"
      ]
     },
     "execution_count": 49,
     "metadata": {},
     "output_type": "execute_result"
    }
   ],
   "source": [
    "np.floor(z) #redondea hacia abajo\n",
    "np.ceil(z) #redondea hacia arriba\n",
    "w = np.absolute(z)\n",
    "np.sqrt(w)\n",
    "np.min(z)\n",
    "np.max(z)\n",
    "np.mean(z)\n",
    "np.median(z)\n",
    "np.sum(z)"
   ]
  },
  {
   "cell_type": "code",
   "execution_count": 50,
   "id": "5ba84640",
   "metadata": {},
   "outputs": [
    {
     "data": {
      "text/plain": [
       "array([ 4. , 10.2, -5.2, 27.6, 13.6])"
      ]
     },
     "execution_count": 50,
     "metadata": {},
     "output_type": "execute_result"
    }
   ],
   "source": [
    "z"
   ]
  },
  {
   "cell_type": "code",
   "execution_count": 51,
   "id": "9e88299f",
   "metadata": {},
   "outputs": [
    {
     "data": {
      "text/plain": [
       "array([ 0.4936 ,  1.25868, -0.64168,  3.40584,  1.67824])"
      ]
     },
     "execution_count": 51,
     "metadata": {},
     "output_type": "execute_result"
    }
   ],
   "source": [
    "z*0.1234"
   ]
  },
  {
   "cell_type": "code",
   "execution_count": 52,
   "id": "04b82dc0",
   "metadata": {},
   "outputs": [
    {
     "data": {
      "text/plain": [
       "array([ 0.5,  1.3, -0.6,  3.4,  1.7])"
      ]
     },
     "execution_count": 52,
     "metadata": {},
     "output_type": "execute_result"
    }
   ],
   "source": [
    "np.round(z*0.1234, 1)"
   ]
  },
  {
   "cell_type": "code",
   "execution_count": 53,
   "id": "99e0b449",
   "metadata": {},
   "outputs": [
    {
     "data": {
      "text/plain": [
       "array([[18, 25, 23, 18, 21],\n",
       "       [28, 21, 18, 17, 12],\n",
       "       [27, 21, 25, 15, 17],\n",
       "       [13, 16, 14, 20, 21]])"
      ]
     },
     "execution_count": 53,
     "metadata": {},
     "output_type": "execute_result"
    }
   ],
   "source": [
    "np.random.seed(2)\n",
    "\n",
    "m1 = np.random.randint(10,30,(4,5))\n",
    "m1"
   ]
  },
  {
   "cell_type": "code",
   "execution_count": 54,
   "id": "3481cfc1",
   "metadata": {},
   "outputs": [
    {
     "data": {
      "text/plain": [
       "array([[3, 2, 1, 2, 4],\n",
       "       [3, 0, 4, 3, 1],\n",
       "       [2, 0, 4, 4, 2],\n",
       "       [4, 2, 1, 0, 2]])"
      ]
     },
     "execution_count": 54,
     "metadata": {},
     "output_type": "execute_result"
    }
   ],
   "source": [
    "m2 = np.random.randint(0,5,(4,5))\n",
    "m2"
   ]
  },
  {
   "cell_type": "code",
   "execution_count": 55,
   "id": "5692b435",
   "metadata": {},
   "outputs": [
    {
     "data": {
      "text/plain": [
       "array([[21, 27, 24, 20, 25],\n",
       "       [31, 21, 22, 20, 13],\n",
       "       [29, 21, 29, 19, 19],\n",
       "       [17, 18, 15, 20, 23]])"
      ]
     },
     "execution_count": 55,
     "metadata": {},
     "output_type": "execute_result"
    }
   ],
   "source": [
    "m1 + m2 "
   ]
  },
  {
   "cell_type": "code",
   "execution_count": null,
   "id": "13918e69",
   "metadata": {},
   "outputs": [],
   "source": []
  },
  {
   "cell_type": "markdown",
   "id": "9b5e59cf",
   "metadata": {},
   "source": [
    "## Filtros y máscaras\n",
    "\n",
    "array[condicion]\n",
    "\n",
    "el modulo [mask](https://numpy.org/doc/stable/reference/maskedarray.generic.html) permite la generación y manipulación de máscaras"
   ]
  },
  {
   "cell_type": "code",
   "execution_count": 56,
   "id": "b427d79d",
   "metadata": {},
   "outputs": [
    {
     "data": {
      "text/plain": [
       "array([5, 6, 7, 8, 9])"
      ]
     },
     "execution_count": 56,
     "metadata": {},
     "output_type": "execute_result"
    }
   ],
   "source": [
    "x = np.arange(5, 10)\n",
    "x"
   ]
  },
  {
   "cell_type": "code",
   "execution_count": 57,
   "id": "ef4ada4c",
   "metadata": {},
   "outputs": [
    {
     "data": {
      "text/plain": [
       "array([ True, False, False,  True, False])"
      ]
     },
     "execution_count": 57,
     "metadata": {},
     "output_type": "execute_result"
    }
   ],
   "source": [
    "b = np.array([True, False, False, True, False])\n",
    "b"
   ]
  },
  {
   "cell_type": "code",
   "execution_count": 58,
   "id": "e79edc08",
   "metadata": {},
   "outputs": [
    {
     "data": {
      "text/plain": [
       "array([ True, False, False,  True, False])"
      ]
     },
     "execution_count": 58,
     "metadata": {},
     "output_type": "execute_result"
    }
   ],
   "source": [
    "b = np.array([True, False, False, True, False], dtype=bool) # buenas practicas\n",
    "b"
   ]
  },
  {
   "cell_type": "code",
   "execution_count": 59,
   "id": "253bb226",
   "metadata": {},
   "outputs": [
    {
     "data": {
      "text/plain": [
       "array([5, 8])"
      ]
     },
     "execution_count": 59,
     "metadata": {},
     "output_type": "execute_result"
    }
   ],
   "source": [
    "x[b]"
   ]
  },
  {
   "cell_type": "code",
   "execution_count": 60,
   "id": "96437bd7",
   "metadata": {},
   "outputs": [
    {
     "data": {
      "text/plain": [
       "array([False, False, False,  True,  True])"
      ]
     },
     "execution_count": 60,
     "metadata": {},
     "output_type": "execute_result"
    }
   ],
   "source": [
    "x>7"
   ]
  },
  {
   "cell_type": "code",
   "execution_count": 61,
   "id": "42e33565",
   "metadata": {},
   "outputs": [
    {
     "data": {
      "text/plain": [
       "array([ True, False,  True, False,  True])"
      ]
     },
     "execution_count": 61,
     "metadata": {},
     "output_type": "execute_result"
    }
   ],
   "source": [
    "x%2 == 1"
   ]
  },
  {
   "cell_type": "code",
   "execution_count": 62,
   "id": "88de4114",
   "metadata": {},
   "outputs": [
    {
     "data": {
      "text/plain": [
       "array([[False, False, False, False, False],\n",
       "       [False,  True, False, False, False],\n",
       "       [False,  True, False, False, False],\n",
       "       [False, False, False,  True, False]])"
      ]
     },
     "execution_count": 62,
     "metadata": {},
     "output_type": "execute_result"
    }
   ],
   "source": [
    "m2 == 0 # mascara"
   ]
  },
  {
   "cell_type": "code",
   "execution_count": 63,
   "id": "b0d6410b",
   "metadata": {},
   "outputs": [
    {
     "data": {
      "text/plain": [
       "array([[False, False, False, False, False],\n",
       "       [False,  True, False, False, False],\n",
       "       [False,  True, False, False, False],\n",
       "       [False, False, False,  True, False]])"
      ]
     },
     "execution_count": 63,
     "metadata": {},
     "output_type": "execute_result"
    }
   ],
   "source": [
    "mask = m2 == 0 # mascara\n",
    "mask"
   ]
  },
  {
   "cell_type": "code",
   "execution_count": 64,
   "id": "575471a6",
   "metadata": {},
   "outputs": [
    {
     "data": {
      "text/plain": [
       "array([[ True,  True, False,  True,  True],\n",
       "       [ True, False,  True,  True, False],\n",
       "       [ True, False,  True,  True,  True],\n",
       "       [ True,  True, False, False,  True]])"
      ]
     },
     "execution_count": 64,
     "metadata": {},
     "output_type": "execute_result"
    }
   ],
   "source": [
    "mask = m2 >= 2\n",
    "mask"
   ]
  },
  {
   "cell_type": "code",
   "execution_count": 65,
   "id": "c8b6adbf",
   "metadata": {},
   "outputs": [
    {
     "data": {
      "text/plain": [
       "array([3, 2, 2, 4, 3, 4, 3, 2, 4, 4, 2, 4, 2, 2])"
      ]
     },
     "execution_count": 65,
     "metadata": {},
     "output_type": "execute_result"
    }
   ],
   "source": [
    "m2[mask]"
   ]
  },
  {
   "cell_type": "code",
   "execution_count": 66,
   "id": "c8ec2d54",
   "metadata": {},
   "outputs": [
    {
     "data": {
      "text/plain": [
       "array([[3, 2, 0, 2, 4],\n",
       "       [3, 0, 4, 3, 0],\n",
       "       [2, 0, 4, 4, 2],\n",
       "       [4, 2, 0, 0, 2]])"
      ]
     },
     "execution_count": 66,
     "metadata": {},
     "output_type": "execute_result"
    }
   ],
   "source": [
    "m2*mask # los False los pone como 0"
   ]
  },
  {
   "cell_type": "code",
   "execution_count": 67,
   "id": "793cae36",
   "metadata": {},
   "outputs": [
    {
     "data": {
      "text/plain": [
       "masked_array(data=[--, --, 7, --, 9],\n",
       "             mask=[ True,  True, False,  True, False],\n",
       "       fill_value=999999)"
      ]
     },
     "execution_count": 67,
     "metadata": {},
     "output_type": "execute_result"
    }
   ],
   "source": [
    "import numpy.ma as ma\n",
    "\n",
    "x = np.arange(5, 10)\n",
    "\n",
    "ma.masked_array(x, mask=[1, 1, 0, 1, 0])"
   ]
  },
  {
   "cell_type": "code",
   "execution_count": 68,
   "id": "58948424",
   "metadata": {},
   "outputs": [
    {
     "data": {
      "text/plain": [
       "8.0"
      ]
     },
     "execution_count": 68,
     "metadata": {},
     "output_type": "execute_result"
    }
   ],
   "source": [
    "x_masked = ma.masked_array(x, mask=[1, 1, 0, 1, 0])\n",
    "\n",
    "x_masked.mean()"
   ]
  },
  {
   "cell_type": "code",
   "execution_count": 69,
   "id": "d77098ab",
   "metadata": {},
   "outputs": [
    {
     "data": {
      "text/plain": [
       "masked_array(\n",
       "  data=[[--, 25, 23, --, 21],\n",
       "        [--, 21, --, 17, --],\n",
       "        [27, 21, 25, 15, 17],\n",
       "        [13, --, --, --, 21]],\n",
       "  mask=[[ True, False, False,  True, False],\n",
       "        [ True, False,  True, False,  True],\n",
       "        [False, False, False, False, False],\n",
       "        [False,  True,  True,  True, False]],\n",
       "  fill_value=999999)"
      ]
     },
     "execution_count": 69,
     "metadata": {},
     "output_type": "execute_result"
    }
   ],
   "source": [
    "ma.masked_array(m1, mask = m1%2 == 0)"
   ]
  },
  {
   "cell_type": "code",
   "execution_count": 70,
   "id": "66e76c82",
   "metadata": {},
   "outputs": [
    {
     "data": {
      "text/plain": [
       "masked_array(data=[--, 1.0, --, 3.0, 4.0],\n",
       "             mask=[ True, False,  True, False, False],\n",
       "       fill_value=-9999.0)"
      ]
     },
     "execution_count": 70,
     "metadata": {},
     "output_type": "execute_result"
    }
   ],
   "source": [
    "x = [-9999.,1.,-9999.,3.,4.]\n",
    "mx = ma.masked_values (x, -9999.)\n",
    "mx"
   ]
  },
  {
   "cell_type": "code",
   "execution_count": 71,
   "id": "6605f9e5",
   "metadata": {},
   "outputs": [
    {
     "data": {
      "text/plain": [
       "array([2.66666667, 1.        , 2.66666667, 3.        , 4.        ])"
      ]
     },
     "execution_count": 71,
     "metadata": {},
     "output_type": "execute_result"
    }
   ],
   "source": [
    "mx.filled(mx.mean()) #rellenar los valores vacios"
   ]
  },
  {
   "cell_type": "code",
   "execution_count": null,
   "id": "d34377cd",
   "metadata": {},
   "outputs": [],
   "source": []
  },
  {
   "cell_type": "markdown",
   "id": "869853fe",
   "metadata": {},
   "source": [
    "## Algebra lineal\n",
    "\n",
    "submódulo **linalg** para operaciones algebraicas de vectores y matrices."
   ]
  },
  {
   "cell_type": "markdown",
   "id": "af878070-b11f-40ea-bab7-833d4a0cb8a6",
   "metadata": {},
   "source": [
    "Producto punto"
   ]
  },
  {
   "cell_type": "code",
   "execution_count": 110,
   "id": "2f6fbc8d-1b85-4f4a-839c-22d9f4e3bfda",
   "metadata": {},
   "outputs": [
    {
     "data": {
      "text/plain": [
       "12"
      ]
     },
     "execution_count": 110,
     "metadata": {},
     "output_type": "execute_result"
    }
   ],
   "source": [
    "# producto escalar de dos vectores\n",
    "a = np.array([1, 2, 3, 4])\n",
    "b = np.array([1, 0, 1, 2])\n",
    "\n",
    "a.dot(b)"
   ]
  },
  {
   "cell_type": "code",
   "execution_count": 111,
   "id": "b694178f-bb6d-4c28-994b-51fdb319573c",
   "metadata": {},
   "outputs": [
    {
     "data": {
      "text/plain": [
       "12"
      ]
     },
     "execution_count": 111,
     "metadata": {},
     "output_type": "execute_result"
    }
   ],
   "source": [
    "a @ b"
   ]
  },
  {
   "cell_type": "code",
   "execution_count": 112,
   "id": "eff238bf-1081-438c-b0f4-1160f649f0c6",
   "metadata": {},
   "outputs": [
    {
     "data": {
      "text/plain": [
       "array([[1, 2, 3],\n",
       "       [4, 5, 6],\n",
       "       [7, 8, 9]])"
      ]
     },
     "execution_count": 112,
     "metadata": {},
     "output_type": "execute_result"
    }
   ],
   "source": [
    "A = np.array([[1,2,3], [4,5,6], [7,8,9]])\n",
    "A"
   ]
  },
  {
   "cell_type": "code",
   "execution_count": 113,
   "id": "926e3360-1184-4554-ba3d-5b1c1d4e98ee",
   "metadata": {},
   "outputs": [
    {
     "data": {
      "text/plain": [
       "array([[ 1,  4,  9],\n",
       "       [16, 25, 36],\n",
       "       [49, 64, 81]])"
      ]
     },
     "execution_count": 113,
     "metadata": {},
     "output_type": "execute_result"
    }
   ],
   "source": [
    "A*A # elemento por elemento"
   ]
  },
  {
   "cell_type": "code",
   "execution_count": 114,
   "id": "57ea81c0-33ed-43f3-86a1-bb2235d3c536",
   "metadata": {},
   "outputs": [
    {
     "data": {
      "text/plain": [
       "array([[ 30,  36,  42],\n",
       "       [ 66,  81,  96],\n",
       "       [102, 126, 150]])"
      ]
     },
     "execution_count": 114,
     "metadata": {},
     "output_type": "execute_result"
    }
   ],
   "source": [
    "A.dot(A) #producto matricial"
   ]
  },
  {
   "cell_type": "code",
   "execution_count": 77,
   "id": "c05a39fa-1815-4e1d-a77c-e61447c72a99",
   "metadata": {},
   "outputs": [],
   "source": [
    "A_matriz = np.mat(A) "
   ]
  },
  {
   "cell_type": "code",
   "execution_count": 115,
   "id": "d4729496",
   "metadata": {},
   "outputs": [
    {
     "data": {
      "text/plain": [
       "matrix([[ 30,  36,  42],\n",
       "        [ 66,  81,  96],\n",
       "        [102, 126, 150]])"
      ]
     },
     "execution_count": 115,
     "metadata": {},
     "output_type": "execute_result"
    }
   ],
   "source": [
    "A_matriz*A_matriz  # producto matricial (filas x columnas), no elemento a elemento como con arrays"
   ]
  },
  {
   "cell_type": "code",
   "execution_count": 116,
   "id": "69e502ff-1962-4c4d-9867-e668fce635d1",
   "metadata": {},
   "outputs": [
    {
     "data": {
      "text/plain": [
       "array([[1, 4, 7],\n",
       "       [2, 5, 8],\n",
       "       [3, 6, 9]])"
      ]
     },
     "execution_count": 116,
     "metadata": {},
     "output_type": "execute_result"
    }
   ],
   "source": [
    "A.T"
   ]
  },
  {
   "cell_type": "code",
   "execution_count": 117,
   "id": "f1096197",
   "metadata": {},
   "outputs": [
    {
     "data": {
      "text/plain": [
       "matrix([[1, 4, 7],\n",
       "        [2, 5, 8],\n",
       "        [3, 6, 9]])"
      ]
     },
     "execution_count": 117,
     "metadata": {},
     "output_type": "execute_result"
    }
   ],
   "source": [
    "A_matriz.T "
   ]
  },
  {
   "cell_type": "code",
   "execution_count": 118,
   "id": "a3a9618e",
   "metadata": {},
   "outputs": [
    {
     "data": {
      "text/plain": [
       "matrix([[1, 5, 9]])"
      ]
     },
     "execution_count": 118,
     "metadata": {},
     "output_type": "execute_result"
    }
   ],
   "source": [
    "A_matriz.diagonal()"
   ]
  },
  {
   "cell_type": "code",
   "execution_count": 119,
   "id": "796488dc-07c2-482e-911a-405742eded81",
   "metadata": {},
   "outputs": [
    {
     "data": {
      "text/plain": [
       "matrix([[15]])"
      ]
     },
     "execution_count": 119,
     "metadata": {},
     "output_type": "execute_result"
    }
   ],
   "source": [
    "A_matriz.trace() # traza"
   ]
  },
  {
   "cell_type": "code",
   "execution_count": 120,
   "id": "a8703138",
   "metadata": {},
   "outputs": [
    {
     "data": {
      "text/plain": [
       "-9.51619735392994e-16"
      ]
     },
     "execution_count": 120,
     "metadata": {},
     "output_type": "execute_result"
    }
   ],
   "source": [
    "np.linalg.det(A_matriz)  "
   ]
  },
  {
   "cell_type": "code",
   "execution_count": 121,
   "id": "d27f04b6-e2c9-4d21-8b41-03a7bcc81f05",
   "metadata": {},
   "outputs": [
    {
     "data": {
      "text/plain": [
       "array([[-2. ,  1. ],\n",
       "       [ 1.5, -0.5]])"
      ]
     },
     "execution_count": 121,
     "metadata": {},
     "output_type": "execute_result"
    }
   ],
   "source": [
    "a = np.array([[1, 2], [3, 4]])\n",
    "np.linalg.inv(a) # A * Ainv = identidad"
   ]
  },
  {
   "cell_type": "code",
   "execution_count": 122,
   "id": "00909696-fe8b-4974-9cf4-ee4ba2fa1375",
   "metadata": {},
   "outputs": [
    {
     "data": {
      "text/plain": [
       "array([[1.00000000e+00, 1.11022302e-16],\n",
       "       [0.00000000e+00, 1.00000000e+00]])"
      ]
     },
     "execution_count": 122,
     "metadata": {},
     "output_type": "execute_result"
    }
   ],
   "source": [
    "A_inv = np.linalg.inv(a)\n",
    "a.dot(A_inv)"
   ]
  },
  {
   "cell_type": "markdown",
   "id": "bdde64c8",
   "metadata": {},
   "source": [
    "## Estadística\n",
    "\n",
    "el modulo [statistics](https://numpy.org/doc/stable/reference/routines.statistics.html) tiene funciones básicas de estadística descriptiva"
   ]
  },
  {
   "cell_type": "code",
   "execution_count": 123,
   "id": "ef342a09-bd82-41bb-be59-13e01fa49cbc",
   "metadata": {},
   "outputs": [],
   "source": [
    "data = np.random.rand(100)"
   ]
  },
  {
   "cell_type": "code",
   "execution_count": 124,
   "id": "d903bc05-7ed6-410b-91c2-980a35c36b6d",
   "metadata": {},
   "outputs": [
    {
     "data": {
      "text/plain": [
       "0.9857641154135763"
      ]
     },
     "execution_count": 124,
     "metadata": {},
     "output_type": "execute_result"
    }
   ],
   "source": [
    "np.ptp(data) # rango: max-min"
   ]
  },
  {
   "cell_type": "code",
   "execution_count": 125,
   "id": "1f4d99f7-9b64-4e4e-b34b-1ad9519bc873",
   "metadata": {},
   "outputs": [
    {
     "data": {
      "text/plain": [
       "0.039989036874858955"
      ]
     },
     "execution_count": 125,
     "metadata": {},
     "output_type": "execute_result"
    }
   ],
   "source": [
    "np.percentile(data, 5) # percentiles"
   ]
  },
  {
   "cell_type": "code",
   "execution_count": 126,
   "id": "a7f0a217-9349-4a82-81fe-ef0f5af62935",
   "metadata": {},
   "outputs": [
    {
     "data": {
      "text/plain": [
       "0.08572221169140125"
      ]
     },
     "execution_count": 126,
     "metadata": {},
     "output_type": "execute_result"
    }
   ],
   "source": [
    "np.median(data)\n",
    "np.mean(data)\n",
    "np.std(data)\n",
    "np.var(data)"
   ]
  },
  {
   "cell_type": "code",
   "execution_count": 127,
   "id": "e4e99521-88a7-409b-b0e5-2f94287b5bf3",
   "metadata": {},
   "outputs": [],
   "source": [
    "col1 = np.random.rand(10)*3 + 10\n",
    "col2 = np.random.randn(10)*3 + 10"
   ]
  },
  {
   "cell_type": "code",
   "execution_count": 128,
   "id": "8adff98b-545f-4f31-adec-587cbf0e4f41",
   "metadata": {},
   "outputs": [
    {
     "data": {
      "text/plain": [
       "array([[12.50489756, 12.79086962],\n",
       "       [10.30202699,  6.31200653],\n",
       "       [11.09643515,  4.86571931],\n",
       "       [11.76729134,  8.36061105],\n",
       "       [11.41208501, 12.35803419],\n",
       "       [11.0976597 ,  7.26198032],\n",
       "       [12.91164327,  8.23229754],\n",
       "       [11.59715472,  8.25778103],\n",
       "       [11.20838482,  6.75481533],\n",
       "       [10.12373786, 12.47324737]])"
      ]
     },
     "execution_count": 128,
     "metadata": {},
     "output_type": "execute_result"
    }
   ],
   "source": [
    "data = np.concatenate((col1.reshape(10,1), col2.reshape(10,1)), axis=1)\n",
    "data"
   ]
  },
  {
   "cell_type": "code",
   "execution_count": 129,
   "id": "77fede07-3020-4037-9426-326337f01af4",
   "metadata": {},
   "outputs": [
    {
     "data": {
      "text/plain": [
       "4.865719305550311"
      ]
     },
     "execution_count": 129,
     "metadata": {},
     "output_type": "execute_result"
    }
   ],
   "source": [
    "np.min(data)"
   ]
  },
  {
   "cell_type": "code",
   "execution_count": 93,
   "id": "6baa0adc-8fb9-4f69-8b16-5deeb09891e7",
   "metadata": {},
   "outputs": [
    {
     "data": {
      "text/plain": [
       "array([10.07915245,  5.63194921])"
      ]
     },
     "execution_count": 93,
     "metadata": {},
     "output_type": "execute_result"
    }
   ],
   "source": [
    "np.min(data, axis=0)"
   ]
  },
  {
   "cell_type": "code",
   "execution_count": 94,
   "id": "e1241e66-91ea-4568-b2e1-503078bbec0c",
   "metadata": {},
   "outputs": [
    {
     "data": {
      "text/plain": [
       "array([11.67316304,  8.604312  ,  9.87164175, 10.06306074,  5.63194921,\n",
       "       10.82631361, 10.43563107, 11.5162349 ,  9.51791795, 10.48508629])"
      ]
     },
     "execution_count": 94,
     "metadata": {},
     "output_type": "execute_result"
    }
   ],
   "source": [
    "np.min(data, axis=1)"
   ]
  },
  {
   "cell_type": "code",
   "execution_count": 95,
   "id": "24811033-4e36-447e-b512-b2492fd4d941",
   "metadata": {},
   "outputs": [
    {
     "data": {
      "text/plain": [
       "array([0.78959836, 2.20597933])"
      ]
     },
     "execution_count": 95,
     "metadata": {},
     "output_type": "execute_result"
    }
   ],
   "source": [
    "np.std(data, axis=0)"
   ]
  },
  {
   "cell_type": "code",
   "execution_count": 96,
   "id": "18852ab3-dd98-4360-8b1f-b150a87341ad",
   "metadata": {},
   "outputs": [],
   "source": [
    "pesos = np.arange(20).reshape(10,2)"
   ]
  },
  {
   "cell_type": "code",
   "execution_count": 130,
   "id": "8c7270de-b36e-4956-a67f-82ce366ee568",
   "metadata": {},
   "outputs": [
    {
     "data": {
      "text/plain": [
       "array([11.29697937,  8.88393998])"
      ]
     },
     "execution_count": 130,
     "metadata": {},
     "output_type": "execute_result"
    }
   ],
   "source": [
    "#promedio pesado  avg = sum(a * weights) / sum(weights)\n",
    "np.average(data, axis=0, weights = pesos) "
   ]
  },
  {
   "cell_type": "code",
   "execution_count": 131,
   "id": "24f8c06e-68de-4997-80ca-55b09c2a45fd",
   "metadata": {},
   "outputs": [
    {
     "data": {
      "text/plain": [
       "array([11.40213164,  8.76673623])"
      ]
     },
     "execution_count": 131,
     "metadata": {},
     "output_type": "execute_result"
    }
   ],
   "source": [
    "np.mean(data, axis=0)"
   ]
  },
  {
   "cell_type": "code",
   "execution_count": 99,
   "id": "ffa697f7-0a9d-4066-859c-c0b725c16f2e",
   "metadata": {},
   "outputs": [
    {
     "data": {
      "text/plain": [
       "array([[ 1.        , -0.34815402],\n",
       "       [-0.34815402,  1.        ]])"
      ]
     },
     "execution_count": 99,
     "metadata": {},
     "output_type": "execute_result"
    }
   ],
   "source": [
    "np.corrcoef(data[:,0], data[:,1]) # matriz de correlacion"
   ]
  },
  {
   "cell_type": "code",
   "execution_count": 100,
   "id": "a7b5bfed-ea16-4166-b964-70ebddd7ad2f",
   "metadata": {},
   "outputs": [
    {
     "data": {
      "text/plain": [
       "(array([1, 0, 0, 1, 1, 3, 0, 2, 1, 1]),\n",
       " array([ 5.63194921,  6.47071295,  7.3094767 ,  8.14824044,  8.98700418,\n",
       "         9.82576793, 10.66453167, 11.50329541, 12.34205916, 13.1808229 ,\n",
       "        14.01958664]))"
      ]
     },
     "execution_count": 100,
     "metadata": {},
     "output_type": "execute_result"
    }
   ],
   "source": [
    "np.histogram(data[:,1])"
   ]
  },
  {
   "cell_type": "code",
   "execution_count": 101,
   "id": "a418a604-eeb6-4edd-9d2d-66da25d3d8da",
   "metadata": {},
   "outputs": [
    {
     "data": {
      "text/plain": [
       "(array([[0., 0., 0., 0., 0., 1., 0., 0., 0., 0.],\n",
       "        [0., 0., 0., 0., 0., 1., 0., 1., 0., 0.],\n",
       "        [0., 0., 0., 0., 0., 1., 0., 0., 1., 0.],\n",
       "        [0., 0., 0., 0., 1., 0., 0., 0., 0., 0.],\n",
       "        [0., 0., 0., 0., 0., 0., 0., 0., 0., 0.],\n",
       "        [0., 0., 0., 1., 0., 0., 0., 0., 0., 1.],\n",
       "        [0., 0., 0., 0., 0., 0., 0., 0., 0., 0.],\n",
       "        [0., 0., 0., 0., 0., 0., 0., 0., 0., 0.],\n",
       "        [0., 0., 0., 0., 0., 0., 0., 1., 0., 0.],\n",
       "        [1., 0., 0., 0., 0., 0., 0., 0., 0., 0.]]),\n",
       " array([10.07915245, 10.33214979, 10.58514713, 10.83814448, 11.09114182,\n",
       "        11.34413916, 11.59713651, 11.85013385, 12.10313119, 12.35612854,\n",
       "        12.60912588]),\n",
       " array([ 5.63194921,  6.47071295,  7.3094767 ,  8.14824044,  8.98700418,\n",
       "         9.82576793, 10.66453167, 11.50329541, 12.34205916, 13.1808229 ,\n",
       "        14.01958664]))"
      ]
     },
     "execution_count": 101,
     "metadata": {},
     "output_type": "execute_result"
    }
   ],
   "source": [
    "np.histogram2d(data[:,0], data[:,1])"
   ]
  },
  {
   "cell_type": "markdown",
   "id": "338a8276-103c-417d-a346-07089fdae65f",
   "metadata": {},
   "source": [
    "## Lectura y escritura de documentos\n",
    "\n",
    "el modulo [mask](https://numpy.org/doc/stable/reference/maskedarray.generic.html) permite la generación y manipulación de máscaras"
   ]
  },
  {
   "cell_type": "code",
   "execution_count": 132,
   "id": "65be908f",
   "metadata": {},
   "outputs": [],
   "source": [
    "data = np.random.rand(10,2)"
   ]
  },
  {
   "cell_type": "code",
   "execution_count": 103,
   "id": "abfe8a17",
   "metadata": {},
   "outputs": [
    {
     "data": {
      "text/plain": [
       "array([[0.91065551, 0.81946537],\n",
       "       [0.09037037, 0.35824031],\n",
       "       [0.01898513, 0.45002672],\n",
       "       [0.03036825, 0.27035397],\n",
       "       [0.00258258, 0.43374592],\n",
       "       [0.5871742 , 0.99198426],\n",
       "       [0.43552082, 0.36242738],\n",
       "       [0.87312734, 0.48505377],\n",
       "       [0.74386203, 0.75418095],\n",
       "       [0.3236832 , 0.73535139]])"
      ]
     },
     "execution_count": 103,
     "metadata": {},
     "output_type": "execute_result"
    }
   ],
   "source": [
    "data"
   ]
  },
  {
   "cell_type": "code",
   "execution_count": 135,
   "id": "f5fdf466",
   "metadata": {},
   "outputs": [],
   "source": [
    "np.savetxt('datos.txt', data, delimiter=',', fmt='%.3f', header=\"tiempo\\t distancia\")\n",
    "\n",
    "\n",
    "\n"
   ]
  },
  {
   "cell_type": "code",
   "execution_count": 136,
   "id": "2a98a946",
   "metadata": {},
   "outputs": [],
   "source": [
    "data_read = np.loadtxt(\"datos.txt\", delimiter=\",\")"
   ]
  },
  {
   "cell_type": "code",
   "execution_count": 137,
   "id": "f0059ba0",
   "metadata": {},
   "outputs": [],
   "source": [
    "# Lectura\n",
    "data_read = np.loadtxt(\"datos.txt\", delimiter=\",\")\n",
    "tiempo = data_read[:, 0]  # primera columna\n",
    "masa = data_read[:, 1]  # segunda columna"
   ]
  },
  {
   "cell_type": "code",
   "execution_count": 138,
   "id": "67568a99",
   "metadata": {},
   "outputs": [
    {
     "data": {
      "text/plain": [
       "array([0.143, 0.945, 0.679, 0.574, 0.133, 0.144, 0.413, 0.85 , 0.906,\n",
       "       0.467])"
      ]
     },
     "execution_count": 138,
     "metadata": {},
     "output_type": "execute_result"
    }
   ],
   "source": [
    "tiempo"
   ]
  },
  {
   "cell_type": "code",
   "execution_count": 139,
   "id": "71f75ff6",
   "metadata": {},
   "outputs": [],
   "source": [
    "t, d = np.loadtxt(\"datos.tsv\", delimiter=\"\\t\", unpack=True) #unpack lo lee por columnas"
   ]
  },
  {
   "cell_type": "code",
   "execution_count": 140,
   "id": "1c4034bc",
   "metadata": {},
   "outputs": [
    {
     "data": {
      "text/plain": [
       "array([0.143, 0.945, 0.679, 0.574, 0.133, 0.144, 0.413, 0.85 , 0.906,\n",
       "       0.467])"
      ]
     },
     "execution_count": 140,
     "metadata": {},
     "output_type": "execute_result"
    }
   ],
   "source": [
    "t"
   ]
  },
  {
   "cell_type": "markdown",
   "id": "940c3bc5-37bd-4e97-af9f-b4285eefb0de",
   "metadata": {},
   "source": [
    "\n",
    "-------\n",
    "\n",
    "### Ejercicio 3:\n",
    "\n",
    "i. Reproducir la matriz B: \n",
    "\n",
    "[[0.4  0.41 0.42 0.43 0.44]\\\n",
    "[0.45 0.46 0.47 0.48 0.49]\\\n",
    "[0.5  0.51 0.52 0.53 0.54]\\\n",
    "[0.55 0.56 0.57 0.58 0.59]\\\n",
    "[0.6  0.61 0.62 0.63 0.64]\\\n",
    "[0.65 0.66 0.67 0.68 0.69]\\\n",
    "[0.7  0.71 0.72 0.73 0.74]\\\n",
    "[0.75 0.76 0.77 0.78 0.79]]\n",
    "\n",
    "ii. Unir B con el resultado del ejercicio anterior 2.ii para obtener una matriz de 8 lineas y 13 columnas. \n",
    "\n",
    "iii. Agregar una linea al final con el promedio de cada columna\n",
    "\n",
    "iv. Agregar una columna al final con el valor maximo de cada fila\n",
    "\n",
    "v. Guardar en un archivo."
   ]
  },
  {
   "cell_type": "code",
   "execution_count": null,
   "id": "e9940a38-86e2-4f7b-b895-3ab51e538a41",
   "metadata": {},
   "outputs": [],
   "source": []
  }
 ],
 "metadata": {
  "kernelspec": {
   "display_name": "Python 3",
   "language": "python",
   "name": "python3"
  },
  "language_info": {
   "codemirror_mode": {
    "name": "ipython",
    "version": 3
   },
   "file_extension": ".py",
   "mimetype": "text/x-python",
   "name": "python",
   "nbconvert_exporter": "python",
   "pygments_lexer": "ipython3",
   "version": "3.8.13"
  }
 },
 "nbformat": 4,
 "nbformat_minor": 5
}
