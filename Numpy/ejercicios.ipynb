{
 "cells": [
  {
   "cell_type": "markdown",
   "id": "e57957d4-0132-4b0a-9908-c7ee5c713210",
   "metadata": {},
   "source": [
    "-------\n",
    "\n",
    "### Ejercicio 1:\n",
    "\n",
    "Hacer una matriz de 8 x 8 con numeros enteros consecutivos empezando en 1. \n",
    "Llenado por filas (1,2,3,4...)."
   ]
  },
  {
   "cell_type": "code",
   "execution_count": null,
   "id": "692e4670-aed1-4166-a6d8-d157bf44f14c",
   "metadata": {},
   "outputs": [],
   "source": []
  },
  {
   "cell_type": "markdown",
   "id": "c3003891-b010-4803-b0ef-0ac9560335cc",
   "metadata": {},
   "source": [
    "-------\n",
    "\n",
    "### Ejercicio 2:\n",
    "\n",
    "i. Hacer una matriz de 8 x 8 con numeros enteros consecutivos empezando en 1. \n",
    "Llenado por columnas. \n",
    "\n",
    "ii. reemplazar los elementos que tengan al menos un 3 por -99.  "
   ]
  }
 ],
 "metadata": {
  "kernelspec": {
   "display_name": "Python 3",
   "language": "python",
   "name": "python3"
  },
  "language_info": {
   "codemirror_mode": {
    "name": "ipython",
    "version": 3
   },
   "file_extension": ".py",
   "mimetype": "text/x-python",
   "name": "python",
   "nbconvert_exporter": "python",
   "pygments_lexer": "ipython3",
   "version": "3.8.13"
  }
 },
 "nbformat": 4,
 "nbformat_minor": 5
}
