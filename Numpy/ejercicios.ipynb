{
 "cells": [
  {
   "cell_type": "markdown",
   "id": "e57957d4-0132-4b0a-9908-c7ee5c713210",
   "metadata": {},
   "source": [
    "-------\n",
    "\n",
    "### Ejercicio 1:\n",
    "\n",
    "Hacer una matriz de 8 x 8 con numeros enteros consecutivos empezando en 1. \n",
    "Llenado por filas (1,2,3,4...)."
   ]
  },
  {
   "cell_type": "code",
   "execution_count": 1,
   "id": "692e4670-aed1-4166-a6d8-d157bf44f14c",
   "metadata": {},
   "outputs": [
    {
     "data": {
      "text/plain": [
       "array([ 1,  2,  3,  4,  5,  6,  7,  8,  9, 10, 11, 12, 13, 14, 15, 16, 17,\n",
       "       18, 19, 20, 21, 22, 23, 24, 25, 26, 27, 28, 29, 30, 31, 32, 33, 34,\n",
       "       35, 36, 37, 38, 39, 40, 41, 42, 43, 44, 45, 46, 47, 48, 49, 50, 51,\n",
       "       52, 53, 54, 55, 56, 57, 58, 59, 60, 61, 62, 63, 64])"
      ]
     },
     "execution_count": 1,
     "metadata": {},
     "output_type": "execute_result"
    }
   ],
   "source": [
    "import numpy as np\n",
    "nums = np.arange(1,65)\n",
    "nums"
   ]
  },
  {
   "cell_type": "code",
   "execution_count": 2,
   "id": "d8b50cb7",
   "metadata": {},
   "outputs": [
    {
     "data": {
      "text/plain": [
       "array([[ 1,  2,  3,  4,  5,  6,  7,  8],\n",
       "       [ 9, 10, 11, 12, 13, 14, 15, 16],\n",
       "       [17, 18, 19, 20, 21, 22, 23, 24],\n",
       "       [25, 26, 27, 28, 29, 30, 31, 32],\n",
       "       [33, 34, 35, 36, 37, 38, 39, 40],\n",
       "       [41, 42, 43, 44, 45, 46, 47, 48],\n",
       "       [49, 50, 51, 52, 53, 54, 55, 56],\n",
       "       [57, 58, 59, 60, 61, 62, 63, 64]])"
      ]
     },
     "execution_count": 2,
     "metadata": {},
     "output_type": "execute_result"
    }
   ],
   "source": [
    "mat = nums.reshape(8,8)\n",
    "mat"
   ]
  },
  {
   "cell_type": "markdown",
   "id": "c3003891-b010-4803-b0ef-0ac9560335cc",
   "metadata": {},
   "source": [
    "-------\n",
    "\n",
    "### Ejercicio 2:\n",
    "\n",
    "i. Hacer una matriz de 8 x 8 con numeros enteros consecutivos empezando en 1. \n",
    "Llenado por columnas. \n",
    "\n",
    "ii. reemplazar los elementos que tengan al menos un 3 por -99.  "
   ]
  },
  {
   "cell_type": "code",
   "execution_count": 3,
   "id": "abf8fe38",
   "metadata": {},
   "outputs": [
    {
     "data": {
      "text/plain": [
       "array([[ 1,  9, 17, 25, 33, 41, 49, 57],\n",
       "       [ 2, 10, 18, 26, 34, 42, 50, 58],\n",
       "       [ 3, 11, 19, 27, 35, 43, 51, 59],\n",
       "       [ 4, 12, 20, 28, 36, 44, 52, 60],\n",
       "       [ 5, 13, 21, 29, 37, 45, 53, 61],\n",
       "       [ 6, 14, 22, 30, 38, 46, 54, 62],\n",
       "       [ 7, 15, 23, 31, 39, 47, 55, 63],\n",
       "       [ 8, 16, 24, 32, 40, 48, 56, 64]])"
      ]
     },
     "execution_count": 3,
     "metadata": {},
     "output_type": "execute_result"
    }
   ],
   "source": [
    "mat2 = mat.T\n",
    "mat2"
   ]
  },
  {
   "cell_type": "code",
   "execution_count": 4,
   "id": "c797771d",
   "metadata": {},
   "outputs": [],
   "source": [
    "x = mat2.reshape(1,64)"
   ]
  },
  {
   "cell_type": "code",
   "execution_count": 5,
   "id": "7bd51c1e",
   "metadata": {},
   "outputs": [
    {
     "name": "stdout",
     "output_type": "stream",
     "text": [
      "33\n",
      "34\n",
      "3\n",
      "35\n",
      "43\n",
      "36\n",
      "13\n",
      "37\n",
      "53\n",
      "30\n",
      "38\n",
      "23\n",
      "31\n",
      "39\n",
      "63\n",
      "32\n"
     ]
    }
   ],
   "source": [
    "for i in x[0]:\n",
    "    if '3' in str(i):\n",
    "        print(i)"
   ]
  },
  {
   "cell_type": "code",
   "execution_count": 6,
   "id": "8ba9e94f",
   "metadata": {},
   "outputs": [],
   "source": [
    "new = []\n",
    "for i in x[0]:\n",
    "    if '3' in str(i):\n",
    "        i = -99\n",
    "    new.append(i)"
   ]
  },
  {
   "cell_type": "code",
   "execution_count": 7,
   "id": "b7abcd6b",
   "metadata": {},
   "outputs": [
    {
     "data": {
      "text/plain": [
       "array([[  1,   9,  17,  25, -99,  41,  49,  57],\n",
       "       [  2,  10,  18,  26, -99,  42,  50,  58],\n",
       "       [-99,  11,  19,  27, -99, -99,  51,  59],\n",
       "       [  4,  12,  20,  28, -99,  44,  52,  60],\n",
       "       [  5, -99,  21,  29, -99,  45, -99,  61],\n",
       "       [  6,  14,  22, -99, -99,  46,  54,  62],\n",
       "       [  7,  15, -99, -99, -99,  47,  55, -99],\n",
       "       [  8,  16,  24, -99,  40,  48,  56,  64]])"
      ]
     },
     "execution_count": 7,
     "metadata": {},
     "output_type": "execute_result"
    }
   ],
   "source": [
    "mat3 = np.array(new).reshape(8,8)\n",
    "mat3"
   ]
  },
  {
   "cell_type": "code",
   "execution_count": null,
   "id": "ef428cc4",
   "metadata": {},
   "outputs": [],
   "source": []
  },
  {
   "cell_type": "markdown",
   "id": "ad4e7fed-0360-4a9d-801b-225b7c27ad83",
   "metadata": {},
   "source": [
    "-------\n",
    "\n",
    "### Ejercicio 3:\n",
    "\n",
    "i. Reproducir la matriz B: \n",
    "\n",
    "[[0.4  0.41 0.42 0.43 0.44]\\\n",
    "[0.45 0.46 0.47 0.48 0.49]\\\n",
    "[0.5  0.51 0.52 0.53 0.54]\\\n",
    "[0.55 0.56 0.57 0.58 0.59]\\\n",
    "[0.6  0.61 0.62 0.63 0.64]\\\n",
    "[0.65 0.66 0.67 0.68 0.69]\\\n",
    "[0.7  0.71 0.72 0.73 0.74]\\\n",
    "[0.75 0.76 0.77 0.78 0.79]]\n",
    "\n",
    "ii. Unir B con el resultado del ejercicio anterior 2.ii para obtener una matriz de 8 lineas y 13 columnas. \n",
    "\n",
    "iii. Agregar una linea al final con el promedio de cada columna\n",
    "\n",
    "iv. Agregar una columna al final con el valor maximo de cada fila"
   ]
  },
  {
   "cell_type": "code",
   "execution_count": null,
   "id": "3781b073-b783-4681-9cb3-6dd2545e8f73",
   "metadata": {},
   "outputs": [],
   "source": []
  },
  {
   "cell_type": "code",
   "execution_count": null,
   "id": "34f76752-3a97-4afc-95ca-da95aec47725",
   "metadata": {},
   "outputs": [],
   "source": []
  },
  {
   "cell_type": "code",
   "execution_count": 8,
   "id": "b66b9360-ebcb-4d9d-a160-3ef15d90d219",
   "metadata": {},
   "outputs": [
    {
     "name": "stdout",
     "output_type": "stream",
     "text": [
      "B = \n",
      " [[0.4  0.41 0.42 0.43 0.44]\n",
      " [0.45 0.46 0.47 0.48 0.49]\n",
      " [0.5  0.51 0.52 0.53 0.54]\n",
      " [0.55 0.56 0.57 0.58 0.59]\n",
      " [0.6  0.61 0.62 0.63 0.64]\n",
      " [0.65 0.66 0.67 0.68 0.69]\n",
      " [0.7  0.71 0.72 0.73 0.74]\n",
      " [0.75 0.76 0.77 0.78 0.79]]\n"
     ]
    }
   ],
   "source": [
    "B = np.arange(0.4,0.8,0.01).reshape(8,5)\n",
    "\n",
    "print('B = \\n', B)"
   ]
  },
  {
   "cell_type": "code",
   "execution_count": 9,
   "id": "9df46f8e-eba8-4e62-9659-60c451ef8aaf",
   "metadata": {},
   "outputs": [
    {
     "data": {
      "text/plain": [
       "array([[  1.  ,   9.  ,  17.  ,  25.  , -99.  ,  41.  ,  49.  ,  57.  ,\n",
       "          0.4 ,   0.41,   0.42,   0.43,   0.44],\n",
       "       [  2.  ,  10.  ,  18.  ,  26.  , -99.  ,  42.  ,  50.  ,  58.  ,\n",
       "          0.45,   0.46,   0.47,   0.48,   0.49],\n",
       "       [-99.  ,  11.  ,  19.  ,  27.  , -99.  , -99.  ,  51.  ,  59.  ,\n",
       "          0.5 ,   0.51,   0.52,   0.53,   0.54],\n",
       "       [  4.  ,  12.  ,  20.  ,  28.  , -99.  ,  44.  ,  52.  ,  60.  ,\n",
       "          0.55,   0.56,   0.57,   0.58,   0.59],\n",
       "       [  5.  , -99.  ,  21.  ,  29.  , -99.  ,  45.  , -99.  ,  61.  ,\n",
       "          0.6 ,   0.61,   0.62,   0.63,   0.64],\n",
       "       [  6.  ,  14.  ,  22.  , -99.  , -99.  ,  46.  ,  54.  ,  62.  ,\n",
       "          0.65,   0.66,   0.67,   0.68,   0.69],\n",
       "       [  7.  ,  15.  , -99.  , -99.  , -99.  ,  47.  ,  55.  , -99.  ,\n",
       "          0.7 ,   0.71,   0.72,   0.73,   0.74],\n",
       "       [  8.  ,  16.  ,  24.  , -99.  ,  40.  ,  48.  ,  56.  ,  64.  ,\n",
       "          0.75,   0.76,   0.77,   0.78,   0.79]])"
      ]
     },
     "execution_count": 9,
     "metadata": {},
     "output_type": "execute_result"
    }
   ],
   "source": [
    "C = np.concatenate((mat3, B), axis=1)\n",
    "C"
   ]
  },
  {
   "cell_type": "code",
   "execution_count": 10,
   "id": "63045405-24d7-4810-9e84-73c77380e652",
   "metadata": {},
   "outputs": [
    {
     "data": {
      "text/plain": [
       "array([ -8.25 ,  -1.5  ,   5.25 , -20.25 , -81.625,  26.75 ,  33.5  ,\n",
       "        40.25 ,   0.575,   0.585,   0.595,   0.605,   0.615])"
      ]
     },
     "execution_count": 10,
     "metadata": {},
     "output_type": "execute_result"
    }
   ],
   "source": [
    "mean_col = np.mean(C, axis=0)\n",
    "mean_col"
   ]
  },
  {
   "cell_type": "code",
   "execution_count": 11,
   "id": "2f4fe4f4-c6c1-42b9-93fa-db0f4a99d831",
   "metadata": {},
   "outputs": [],
   "source": [
    "#np.insert(C, -1, mean_col, axis=0)\n",
    "D = np.append(C, mean_col.reshape(1,13), axis = 0)"
   ]
  },
  {
   "cell_type": "code",
   "execution_count": 12,
   "id": "12c577be-fa02-48c9-802c-ad3bd839ec95",
   "metadata": {},
   "outputs": [
    {
     "data": {
      "text/plain": [
       "array([57.  , 58.  , 59.  , 60.  , 61.  , 62.  , 55.  , 64.  , 40.25])"
      ]
     },
     "execution_count": 12,
     "metadata": {},
     "output_type": "execute_result"
    }
   ],
   "source": [
    "max_fila = np.max(D, axis=1)\n",
    "max_fila"
   ]
  },
  {
   "cell_type": "code",
   "execution_count": 13,
   "id": "e3faad3e-d828-4c62-9fa5-9edab3aa2cee",
   "metadata": {},
   "outputs": [],
   "source": [
    "E = np.append(D, max_fila.reshape(9,1), axis = 1)"
   ]
  },
  {
   "cell_type": "code",
   "execution_count": 14,
   "id": "db16f541-99fe-4594-bbec-2b17942b8e5c",
   "metadata": {},
   "outputs": [
    {
     "data": {
      "text/plain": [
       "array([[  1.   ,   9.   ,  17.   ,  25.   , -99.   ,  41.   ,  49.   ,\n",
       "         57.   ,   0.4  ,   0.41 ,   0.42 ,   0.43 ,   0.44 ,  57.   ],\n",
       "       [  2.   ,  10.   ,  18.   ,  26.   , -99.   ,  42.   ,  50.   ,\n",
       "         58.   ,   0.45 ,   0.46 ,   0.47 ,   0.48 ,   0.49 ,  58.   ],\n",
       "       [-99.   ,  11.   ,  19.   ,  27.   , -99.   , -99.   ,  51.   ,\n",
       "         59.   ,   0.5  ,   0.51 ,   0.52 ,   0.53 ,   0.54 ,  59.   ],\n",
       "       [  4.   ,  12.   ,  20.   ,  28.   , -99.   ,  44.   ,  52.   ,\n",
       "         60.   ,   0.55 ,   0.56 ,   0.57 ,   0.58 ,   0.59 ,  60.   ],\n",
       "       [  5.   , -99.   ,  21.   ,  29.   , -99.   ,  45.   , -99.   ,\n",
       "         61.   ,   0.6  ,   0.61 ,   0.62 ,   0.63 ,   0.64 ,  61.   ],\n",
       "       [  6.   ,  14.   ,  22.   , -99.   , -99.   ,  46.   ,  54.   ,\n",
       "         62.   ,   0.65 ,   0.66 ,   0.67 ,   0.68 ,   0.69 ,  62.   ],\n",
       "       [  7.   ,  15.   , -99.   , -99.   , -99.   ,  47.   ,  55.   ,\n",
       "        -99.   ,   0.7  ,   0.71 ,   0.72 ,   0.73 ,   0.74 ,  55.   ],\n",
       "       [  8.   ,  16.   ,  24.   , -99.   ,  40.   ,  48.   ,  56.   ,\n",
       "         64.   ,   0.75 ,   0.76 ,   0.77 ,   0.78 ,   0.79 ,  64.   ],\n",
       "       [ -8.25 ,  -1.5  ,   5.25 , -20.25 , -81.625,  26.75 ,  33.5  ,\n",
       "         40.25 ,   0.575,   0.585,   0.595,   0.605,   0.615,  40.25 ]])"
      ]
     },
     "execution_count": 14,
     "metadata": {},
     "output_type": "execute_result"
    }
   ],
   "source": [
    "E"
   ]
  },
  {
   "cell_type": "code",
   "execution_count": null,
   "id": "942ef5c1-c497-421c-b18a-eebcc5d4503d",
   "metadata": {},
   "outputs": [],
   "source": []
  }
 ],
 "metadata": {
  "kernelspec": {
   "display_name": "Python 3 (ipykernel)",
   "language": "python",
   "name": "python3"
  },
  "language_info": {
   "codemirror_mode": {
    "name": "ipython",
    "version": 3
   },
   "file_extension": ".py",
   "mimetype": "text/x-python",
   "name": "python",
   "nbconvert_exporter": "python",
   "pygments_lexer": "ipython3",
   "version": "3.9.13"
  }
 },
 "nbformat": 4,
 "nbformat_minor": 5
}
