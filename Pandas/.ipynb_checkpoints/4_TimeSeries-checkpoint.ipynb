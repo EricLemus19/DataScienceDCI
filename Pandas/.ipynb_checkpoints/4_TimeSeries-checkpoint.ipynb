{
 "cells": [
  {
   "cell_type": "markdown",
   "id": "d25540b4-eccf-42e0-a166-71219ef08de5",
   "metadata": {},
   "source": [
    "\n",
    "\n",
    "[documentation](https://pandas.pydata.org/docs/user_guide/timeseries.html)"
   ]
  }
 ],
 "metadata": {
  "kernelspec": {
   "display_name": "Python 3",
   "language": "python",
   "name": "python3"
  },
  "language_info": {
   "codemirror_mode": {
    "name": "ipython",
    "version": 3
   },
   "file_extension": ".py",
   "mimetype": "text/x-python",
   "name": "python",
   "nbconvert_exporter": "python",
   "pygments_lexer": "ipython3",
   "version": "3.8.13"
  }
 },
 "nbformat": 4,
 "nbformat_minor": 5
}
