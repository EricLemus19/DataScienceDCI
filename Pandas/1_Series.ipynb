{
 "cells": [
  {
   "cell_type": "markdown",
   "id": "91fdc16f-d7e1-4776-9d29-733a69aa176c",
   "metadata": {},
   "source": [
    "# Librería **Pandas** \n",
    "\n",
    "###  Librería de Python especializada en la manipulación y análisis de datos. Utiliza Numpy como base. \n",
    "\n",
    "### Incorpora las estructuras **DataFrame** y **Series**.\n",
    "\n",
    "Pandas permite la lectura y escritura de datos en varios formatos: csv, JSON, tablas SQL, y Excel. \n",
    "\n",
    "----------"
   ]
  },
  {
   "cell_type": "markdown",
   "id": "d59573e4-40e8-4baa-a3ea-fc3eb50f38f7",
   "metadata": {},
   "source": [
    "## **Series:** \n",
    "\n",
    "Estructura (objeto) de una sola variable con indexación integrada. \n",
    "\n",
    "Secuencia de una dimensión, similar a un array 1D. Cada elemento tiene un índice asociado.  \n"
   ]
  },
  {
   "cell_type": "code",
   "execution_count": 1,
   "id": "4e3611f3-881a-471f-9307-3fad9e5160b4",
   "metadata": {},
   "outputs": [],
   "source": [
    "import numpy as np\n",
    "import pandas as pd"
   ]
  },
  {
   "cell_type": "code",
   "execution_count": 2,
   "id": "0ffd6a67-a306-45b3-9ac5-736bd01c9a02",
   "metadata": {},
   "outputs": [],
   "source": [
    "list_num = [1,2,3]\n",
    "array_num = np.array([10,20,30])\n",
    "letras = ['a','b','c']\n",
    "d = {'a':10,'b':20,'c':30}"
   ]
  },
  {
   "cell_type": "code",
   "execution_count": 3,
   "id": "5ced793f-7a62-4742-a3ff-8de2399db338",
   "metadata": {},
   "outputs": [
    {
     "data": {
      "text/plain": [
       "0    1\n",
       "1    2\n",
       "2    3\n",
       "dtype: int64"
      ]
     },
     "execution_count": 3,
     "metadata": {},
     "output_type": "execute_result"
    }
   ],
   "source": [
    "pd.Series(data=list_num)"
   ]
  },
  {
   "cell_type": "code",
   "execution_count": 4,
   "id": "baf8de91-42b9-4afc-889c-0589d894d5ee",
   "metadata": {},
   "outputs": [
    {
     "data": {
      "text/plain": [
       "a    10.0\n",
       "b    20.0\n",
       "c    30.0\n",
       "dtype: float64"
      ]
     },
     "execution_count": 4,
     "metadata": {},
     "output_type": "execute_result"
    }
   ],
   "source": [
    "pd.Series(data=array_num, index=letras, dtype='float')"
   ]
  },
  {
   "cell_type": "code",
   "execution_count": 5,
   "id": "f7e0612c-a2e0-4d3e-a991-14be123c7e8e",
   "metadata": {},
   "outputs": [
    {
     "data": {
      "text/plain": [
       "a    10\n",
       "b    20\n",
       "c    30\n",
       "dtype: int64"
      ]
     },
     "execution_count": 5,
     "metadata": {},
     "output_type": "execute_result"
    }
   ],
   "source": [
    "pd.Series(array_num,letras)"
   ]
  },
  {
   "cell_type": "code",
   "execution_count": 6,
   "id": "d634bc52-61c8-4351-8c33-b7f0dd5b1a3f",
   "metadata": {},
   "outputs": [
    {
     "data": {
      "text/plain": [
       "a    10\n",
       "b    20\n",
       "c    30\n",
       "dtype: int64"
      ]
     },
     "execution_count": 6,
     "metadata": {},
     "output_type": "execute_result"
    }
   ],
   "source": [
    "pd.Series(d)"
   ]
  },
  {
   "cell_type": "code",
   "execution_count": 7,
   "id": "4f74a1fb-95d1-4d40-adae-83331d45885d",
   "metadata": {},
   "outputs": [
    {
     "data": {
      "text/plain": [
       "0    a\n",
       "1    b\n",
       "2    c\n",
       "dtype: object"
      ]
     },
     "execution_count": 7,
     "metadata": {},
     "output_type": "execute_result"
    }
   ],
   "source": [
    "pd.Series(letras)"
   ]
  },
  {
   "cell_type": "markdown",
   "id": "40c3fc26-16d6-4104-97cc-a5708cda1e4c",
   "metadata": {},
   "source": [
    "### atributos"
   ]
  },
  {
   "cell_type": "code",
   "execution_count": 8,
   "id": "811259b7-7ac4-4644-ac64-17fe496b387a",
   "metadata": {},
   "outputs": [],
   "source": [
    "s = pd.Series(data=array_num, index=letras, dtype='float')"
   ]
  },
  {
   "cell_type": "code",
   "execution_count": 9,
   "id": "7db580b2-9de4-4f1c-8674-07db75fc9741",
   "metadata": {},
   "outputs": [
    {
     "data": {
      "text/plain": [
       "3"
      ]
     },
     "execution_count": 9,
     "metadata": {},
     "output_type": "execute_result"
    }
   ],
   "source": [
    "s.size"
   ]
  },
  {
   "cell_type": "code",
   "execution_count": 10,
   "id": "d1e2c792-6e5c-4bb1-9a43-8f7f8d947755",
   "metadata": {},
   "outputs": [
    {
     "data": {
      "text/plain": [
       "Index(['a', 'b', 'c'], dtype='object')"
      ]
     },
     "execution_count": 10,
     "metadata": {},
     "output_type": "execute_result"
    }
   ],
   "source": [
    "s.index"
   ]
  },
  {
   "cell_type": "code",
   "execution_count": 11,
   "id": "967d47ef-0568-46d1-ab19-a1b090e7f6f7",
   "metadata": {},
   "outputs": [
    {
     "data": {
      "text/plain": [
       "dtype('float64')"
      ]
     },
     "execution_count": 11,
     "metadata": {},
     "output_type": "execute_result"
    }
   ],
   "source": [
    "s.dtype"
   ]
  },
  {
   "cell_type": "code",
   "execution_count": 12,
   "id": "08bec284-1661-4c66-8ef8-ec484fc1230d",
   "metadata": {},
   "outputs": [
    {
     "data": {
      "text/plain": [
       "a    10.0\n",
       "b    30.0\n",
       "c    60.0\n",
       "dtype: float64"
      ]
     },
     "execution_count": 12,
     "metadata": {},
     "output_type": "execute_result"
    }
   ],
   "source": [
    "s.count()\n",
    "s.sum() \n",
    "s.cumsum()"
   ]
  },
  {
   "cell_type": "code",
   "execution_count": 13,
   "id": "db4ba1f5-dbdb-4970-8c87-99fe983d6f18",
   "metadata": {},
   "outputs": [
    {
     "data": {
      "text/plain": [
       "10.0    1\n",
       "20.0    1\n",
       "30.0    1\n",
       "dtype: int64"
      ]
     },
     "execution_count": 13,
     "metadata": {},
     "output_type": "execute_result"
    }
   ],
   "source": [
    "s.value_counts()"
   ]
  },
  {
   "cell_type": "code",
   "execution_count": 14,
   "id": "6f0154f0-ee49-490b-bd57-923906487e49",
   "metadata": {},
   "outputs": [
    {
     "data": {
      "text/plain": [
       "10.0    0.333333\n",
       "20.0    0.333333\n",
       "30.0    0.333333\n",
       "dtype: float64"
      ]
     },
     "execution_count": 14,
     "metadata": {},
     "output_type": "execute_result"
    }
   ],
   "source": [
    "s.value_counts(normalize=True)"
   ]
  },
  {
   "cell_type": "code",
   "execution_count": 15,
   "id": "61be467e-bf1d-4bc8-9084-85b0ae0fa66e",
   "metadata": {},
   "outputs": [
    {
     "data": {
      "text/plain": [
       "count     3.0\n",
       "mean     20.0\n",
       "std      10.0\n",
       "min      10.0\n",
       "25%      15.0\n",
       "50%      20.0\n",
       "75%      25.0\n",
       "max      30.0\n",
       "dtype: float64"
      ]
     },
     "execution_count": 15,
     "metadata": {},
     "output_type": "execute_result"
    }
   ],
   "source": [
    "s.min()\n",
    "s.var() \n",
    "s.std() \n",
    "s.describe()"
   ]
  },
  {
   "cell_type": "code",
   "execution_count": 16,
   "id": "63ecb46a-021c-47ca-9899-851536b9c620",
   "metadata": {},
   "outputs": [
    {
     "data": {
      "text/plain": [
       "c    30.0\n",
       "b    20.0\n",
       "a    10.0\n",
       "dtype: float64"
      ]
     },
     "execution_count": 16,
     "metadata": {},
     "output_type": "execute_result"
    }
   ],
   "source": [
    "s.sort_values(ascending=False)"
   ]
  },
  {
   "cell_type": "code",
   "execution_count": 17,
   "id": "bd4679b1-0fdf-4822-94e8-d7b0cce70748",
   "metadata": {},
   "outputs": [
    {
     "data": {
      "text/plain": [
       "c    30.0\n",
       "b    20.0\n",
       "a    10.0\n",
       "dtype: float64"
      ]
     },
     "execution_count": 17,
     "metadata": {},
     "output_type": "execute_result"
    }
   ],
   "source": [
    "s.sort_index(ascending=False)"
   ]
  },
  {
   "cell_type": "markdown",
   "id": "6075fc11-1b48-494b-8bb4-8e894850e5c7",
   "metadata": {},
   "source": [
    "## Indices\n",
    "\n",
    "El índice de cada elemento puede ser cualquier etiqueta (numeros ordenados, desordenados, letras)."
   ]
  },
  {
   "cell_type": "code",
   "execution_count": 18,
   "id": "038a2178-cf52-4090-be99-25403e19ec37",
   "metadata": {},
   "outputs": [],
   "source": [
    "s1 = pd.Series([1,2,3,4], index = ['rojo', 'azul','blanco', 'negro'])                                   "
   ]
  },
  {
   "cell_type": "code",
   "execution_count": 19,
   "id": "eb9780ff-84f2-4258-82fd-4528d7b430b5",
   "metadata": {},
   "outputs": [
    {
     "data": {
      "text/plain": [
       "rojo      1\n",
       "azul      2\n",
       "blanco    3\n",
       "negro     4\n",
       "dtype: int64"
      ]
     },
     "execution_count": 19,
     "metadata": {},
     "output_type": "execute_result"
    }
   ],
   "source": [
    "s1"
   ]
  },
  {
   "cell_type": "code",
   "execution_count": 20,
   "id": "e821c2f8-de60-4951-81fc-76532b7eeac6",
   "metadata": {
    "tags": []
   },
   "outputs": [],
   "source": [
    "s2 = pd.Series([5,3,2,1],index = [123, 'azul','GAMA', '18-12'])                                   "
   ]
  },
  {
   "cell_type": "code",
   "execution_count": 21,
   "id": "65cfda57-8521-4b25-b340-bce56f535502",
   "metadata": {},
   "outputs": [
    {
     "data": {
      "text/plain": [
       "123      5\n",
       "azul     3\n",
       "GAMA     2\n",
       "18-12    1\n",
       "dtype: int64"
      ]
     },
     "execution_count": 21,
     "metadata": {},
     "output_type": "execute_result"
    }
   ],
   "source": [
    "s2"
   ]
  },
  {
   "cell_type": "code",
   "execution_count": 22,
   "id": "85191fd6-3923-4d86-955d-cdc69444ccb0",
   "metadata": {},
   "outputs": [
    {
     "data": {
      "text/plain": [
       "1"
      ]
     },
     "execution_count": 22,
     "metadata": {},
     "output_type": "execute_result"
    }
   ],
   "source": [
    "s2[123]\n",
    "s2['18-12']"
   ]
  },
  {
   "cell_type": "code",
   "execution_count": 23,
   "id": "547fb228-70c5-4d06-a215-2f9086a8645f",
   "metadata": {},
   "outputs": [
    {
     "data": {
      "text/plain": [
       "123     5\n",
       "GAMA    2\n",
       "dtype: int64"
      ]
     },
     "execution_count": 23,
     "metadata": {},
     "output_type": "execute_result"
    }
   ],
   "source": [
    "s2[[123, 'GAMA']]  "
   ]
  },
  {
   "cell_type": "code",
   "execution_count": 24,
   "id": "846b8197-7145-4bd8-ba21-1081c127ab93",
   "metadata": {},
   "outputs": [],
   "source": [
    "#s2[0]"
   ]
  },
  {
   "cell_type": "code",
   "execution_count": 25,
   "id": "a15adeb3-1665-4c03-9b0b-2697a781e423",
   "metadata": {},
   "outputs": [
    {
     "data": {
      "text/plain": [
       "5"
      ]
     },
     "execution_count": 25,
     "metadata": {},
     "output_type": "execute_result"
    }
   ],
   "source": [
    "s2.iloc[0] # extraccion del elemento por posición"
   ]
  },
  {
   "cell_type": "code",
   "execution_count": 26,
   "id": "cb41bb33-3996-4ca1-a43f-4e4665ae55ed",
   "metadata": {},
   "outputs": [
    {
     "data": {
      "text/plain": [
       "azul    3\n",
       "GAMA    2\n",
       "dtype: int64"
      ]
     },
     "execution_count": 26,
     "metadata": {},
     "output_type": "execute_result"
    }
   ],
   "source": [
    "s2.iloc[1:3]"
   ]
  },
  {
   "cell_type": "markdown",
   "id": "8e8c627f-ef2a-48ed-bb40-c18cdabf1e3c",
   "metadata": {},
   "source": [
    "### Operaciones"
   ]
  },
  {
   "cell_type": "code",
   "execution_count": 27,
   "id": "a0652ac0-1a44-41f0-aa06-ebdaf1e531b7",
   "metadata": {},
   "outputs": [
    {
     "data": {
      "text/plain": [
       "rojo      1\n",
       "azul      2\n",
       "blanco    3\n",
       "negro     4\n",
       "dtype: int64"
      ]
     },
     "execution_count": 27,
     "metadata": {},
     "output_type": "execute_result"
    }
   ],
   "source": [
    "s1"
   ]
  },
  {
   "cell_type": "code",
   "execution_count": 28,
   "id": "d84f4f2e-601e-4044-ad03-cd7ecce0bf11",
   "metadata": {},
   "outputs": [
    {
     "data": {
      "text/plain": [
       "rojo      2\n",
       "azul      4\n",
       "blanco    6\n",
       "negro     8\n",
       "dtype: int64"
      ]
     },
     "execution_count": 28,
     "metadata": {},
     "output_type": "execute_result"
    }
   ],
   "source": [
    "s1*2"
   ]
  },
  {
   "cell_type": "code",
   "execution_count": 29,
   "id": "56cf7677-0189-4553-943a-5febc806a131",
   "metadata": {},
   "outputs": [
    {
     "data": {
      "text/plain": [
       "rojo      -4\n",
       "azul      -1\n",
       "blanco     4\n",
       "negro     11\n",
       "dtype: int64"
      ]
     },
     "execution_count": 29,
     "metadata": {},
     "output_type": "execute_result"
    }
   ],
   "source": [
    "s1**2 -5"
   ]
  },
  {
   "cell_type": "code",
   "execution_count": 30,
   "id": "9608a6c2-390d-4a3b-89ce-456e3e882085",
   "metadata": {},
   "outputs": [
    {
     "data": {
      "text/plain": [
       "rojo       2.718282\n",
       "azul       7.389056\n",
       "blanco    20.085537\n",
       "negro     54.598150\n",
       "dtype: float64"
      ]
     },
     "execution_count": 30,
     "metadata": {},
     "output_type": "execute_result"
    }
   ],
   "source": [
    "np.exp(s1)"
   ]
  },
  {
   "cell_type": "code",
   "execution_count": 31,
   "id": "b975e1ac-2b36-4a77-9663-3f8a21d5c4b5",
   "metadata": {},
   "outputs": [
    {
     "data": {
      "text/plain": [
       "rojo      0.000000\n",
       "azul      0.301030\n",
       "blanco    0.477121\n",
       "negro     0.602060\n",
       "dtype: float64"
      ]
     },
     "execution_count": 31,
     "metadata": {},
     "output_type": "execute_result"
    }
   ],
   "source": [
    "np.log10(s1)"
   ]
  },
  {
   "cell_type": "markdown",
   "id": "068f9aed-d511-49ac-aca4-2020318935f7",
   "metadata": {},
   "source": [
    "### Operaciones entre series\n",
    "\n",
    "Se aplica la operación a los elementos con el mismo índice. Si alguna de las series no cuenta con uno de los índices, no puede realizar la operación y regresa NaN. "
   ]
  },
  {
   "cell_type": "code",
   "execution_count": 32,
   "id": "99315883-880a-407b-94ab-acbfa55097f8",
   "metadata": {},
   "outputs": [
    {
     "data": {
      "text/plain": [
       "123       NaN\n",
       "18-12     NaN\n",
       "GAMA      NaN\n",
       "azul      5.0\n",
       "blanco    NaN\n",
       "negro     NaN\n",
       "rojo      NaN\n",
       "dtype: float64"
      ]
     },
     "execution_count": 32,
     "metadata": {},
     "output_type": "execute_result"
    }
   ],
   "source": [
    "s3 = s1 + s2\n",
    "s3"
   ]
  },
  {
   "cell_type": "code",
   "execution_count": 33,
   "id": "c8d4b58a-884c-4516-90ea-eb410fa4847e",
   "metadata": {},
   "outputs": [
    {
     "data": {
      "text/plain": [
       "azul    5.0\n",
       "dtype: float64"
      ]
     },
     "execution_count": 33,
     "metadata": {},
     "output_type": "execute_result"
    }
   ],
   "source": [
    "s3.dropna() "
   ]
  },
  {
   "cell_type": "code",
   "execution_count": 34,
   "id": "f1effbc3-46c7-4d90-a291-b6c04abe3df5",
   "metadata": {},
   "outputs": [
    {
     "data": {
      "text/plain": [
       "a    NaN\n",
       "b    5.0\n",
       "c    9.0\n",
       "d    NaN\n",
       "dtype: float64"
      ]
     },
     "execution_count": 34,
     "metadata": {},
     "output_type": "execute_result"
    }
   ],
   "source": [
    "A = pd.Series([2, 4, 6], index=['a', 'b', 'c'])\n",
    "B = pd.Series([1, 3, 5], index=['b', 'c', 'd'])\n",
    "A + B"
   ]
  },
  {
   "cell_type": "code",
   "execution_count": 35,
   "id": "ea554d8d-d5db-492b-b9d9-3a6c9e3a59a1",
   "metadata": {},
   "outputs": [
    {
     "data": {
      "text/plain": [
       "a    2.0\n",
       "b    5.0\n",
       "c    9.0\n",
       "d    5.0\n",
       "dtype: float64"
      ]
     },
     "execution_count": 35,
     "metadata": {},
     "output_type": "execute_result"
    }
   ],
   "source": [
    "A.add(B, fill_value=0)"
   ]
  },
  {
   "cell_type": "code",
   "execution_count": 36,
   "id": "303bead7-cc57-48dd-b543-97b7a7ae5b08",
   "metadata": {},
   "outputs": [
    {
     "data": {
      "text/plain": [
       "a   -8.0\n",
       "b    3.0\n",
       "c    3.0\n",
       "d    5.0\n",
       "dtype: float64"
      ]
     },
     "execution_count": 36,
     "metadata": {},
     "output_type": "execute_result"
    }
   ],
   "source": [
    "A.subtract(B, fill_value=10)"
   ]
  },
  {
   "cell_type": "code",
   "execution_count": 37,
   "id": "a89d56a4-3312-4dba-87ed-e1574fc7dd28",
   "metadata": {},
   "outputs": [
    {
     "data": {
      "text/plain": [
       "a     2.0\n",
       "b     4.0\n",
       "c    18.0\n",
       "d     5.0\n",
       "dtype: float64"
      ]
     },
     "execution_count": 37,
     "metadata": {},
     "output_type": "execute_result"
    }
   ],
   "source": [
    "A.divide(B, fill_value=1)\n",
    "A.multiply(B, fill_value=1)"
   ]
  },
  {
   "cell_type": "code",
   "execution_count": null,
   "id": "5ed539a5-1f19-46ef-8991-2700248733b1",
   "metadata": {},
   "outputs": [],
   "source": []
  },
  {
   "cell_type": "markdown",
   "id": "708eefb1-9cd3-4f06-841e-2b938f3d61cc",
   "metadata": {},
   "source": [
    "-------\n",
    "## Ejercicio 1\n",
    "\n",
    "i. Crear la serie A serie con: \n",
    " - índices: letras del abecedario ordenadas (investigar función que genere la lista)  \n",
    " - valores: números enteros comenzando en 10, odenados de forma creciente y paso de 1 \n",
    " \n",
    "ii. Crear la serie B serie con: \n",
    " - índices: números enteros comenzando en 10, odenados de forma creciente y paso de 1  \n",
    " - valores: letras del abecedario con orden inverso (z, y, x, w ...)\n",
    "\n",
    "iii. Seleccionar de cada una de las series los elementos con índice o valor entre d:i\n",
    "\n",
    "-------"
   ]
  },
  {
   "cell_type": "code",
   "execution_count": null,
   "id": "010f247f-f965-4eed-85b6-4327ad0e0e1b",
   "metadata": {},
   "outputs": [],
   "source": []
  }
 ],
 "metadata": {
  "kernelspec": {
   "display_name": "Python 3",
   "language": "python",
   "name": "python3"
  },
  "language_info": {
   "codemirror_mode": {
    "name": "ipython",
    "version": 3
   },
   "file_extension": ".py",
   "mimetype": "text/x-python",
   "name": "python",
   "nbconvert_exporter": "python",
   "pygments_lexer": "ipython3",
   "version": "3.8.13"
  }
 },
 "nbformat": 4,
 "nbformat_minor": 5
}
