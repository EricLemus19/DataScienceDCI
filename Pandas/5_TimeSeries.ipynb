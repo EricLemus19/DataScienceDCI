{
 "cells": [
  {
   "cell_type": "markdown",
   "id": "d25540b4-eccf-42e0-a166-71219ef08de5",
   "metadata": {},
   "source": [
    "# Time Series\n",
    "\n",
    "Valores registrados en diferentes intervalos de tiempo.  \n",
    "\n",
    "https://www.kaggle.com/code/prashant111/complete-guide-on-time-series-analysis-in-python\n",
    "\n",
    "[documentation](https://pandas.pydata.org/docs/user_guide/timeseries.html)"
   ]
  }
 ],
 "metadata": {
  "kernelspec": {
   "display_name": "Python 3 (ipykernel)",
   "language": "python",
   "name": "python3"
  },
  "language_info": {
   "codemirror_mode": {
    "name": "ipython",
    "version": 3
   },
   "file_extension": ".py",
   "mimetype": "text/x-python",
   "name": "python",
   "nbconvert_exporter": "python",
   "pygments_lexer": "ipython3",
   "version": "3.9.13"
  }
 },
 "nbformat": 4,
 "nbformat_minor": 5
}
