{
 "cells": [
  {
   "cell_type": "markdown",
   "id": "3305eb52-88db-4506-946d-dcabd5793872",
   "metadata": {},
   "source": [
    "-------\n",
    "## Ejercicio 1\n",
    "\n",
    "i. Crear la serie A serie con: \n",
    " - índices: letras del abecedario ordenadas (investigar función que genere la lista)  \n",
    " - valores: números enteros comenzando en 10, odenados de forma creciente y paso de 1 \n",
    " \n",
    "ii. Crear la serie B serie con: \n",
    " - índices: números enteros comenzando en 10, odenados de forma creciente y paso de 1  \n",
    " - valores: letras del abecedario con orden inverso (z, y, x, w ...)\n",
    "\n",
    "iii. Seleccionar de cada una de las series los elementos con índice o valor entre d:i\n",
    "\n",
    "-------"
   ]
  },
  {
   "cell_type": "code",
   "execution_count": 1,
   "id": "74b5d276-8a39-4fd1-882a-93683fda0e8e",
   "metadata": {},
   "outputs": [],
   "source": [
    "import pandas as pd\n",
    "import string"
   ]
  },
  {
   "cell_type": "code",
   "execution_count": 2,
   "id": "9590ff04-cf06-49bf-bde6-c9835a42bb87",
   "metadata": {},
   "outputs": [],
   "source": [
    "abecedario = string.ascii_lowercase\n",
    "abc = [i for i in abecedario]"
   ]
  },
  {
   "cell_type": "code",
   "execution_count": 3,
   "id": "9112c57b-fe1d-4932-bd60-5bf8ac49af65",
   "metadata": {},
   "outputs": [
    {
     "data": {
      "text/plain": [
       "26"
      ]
     },
     "execution_count": 3,
     "metadata": {},
     "output_type": "execute_result"
    }
   ],
   "source": [
    "len(abc)"
   ]
  },
  {
   "cell_type": "code",
   "execution_count": 4,
   "id": "6aaae825-7b91-4cc5-8e82-0dc9e00f77de",
   "metadata": {},
   "outputs": [
    {
     "data": {
      "text/plain": [
       "a    10\n",
       "b    11\n",
       "c    12\n",
       "d    13\n",
       "e    14\n",
       "f    15\n",
       "g    16\n",
       "h    17\n",
       "i    18\n",
       "j    19\n",
       "k    20\n",
       "l    21\n",
       "m    22\n",
       "n    23\n",
       "o    24\n",
       "p    25\n",
       "q    26\n",
       "r    27\n",
       "s    28\n",
       "t    29\n",
       "u    30\n",
       "v    31\n",
       "w    32\n",
       "x    33\n",
       "y    34\n",
       "z    35\n",
       "dtype: int64"
      ]
     },
     "execution_count": 4,
     "metadata": {},
     "output_type": "execute_result"
    }
   ],
   "source": [
    "values_A = range(10, 36, 1)\n",
    "index_A = abc\n",
    "\n",
    "A = pd.Series(data = values_A, index = index_A)\n",
    "A"
   ]
  },
  {
   "cell_type": "code",
   "execution_count": 5,
   "id": "20cb01b7-4830-4eac-8623-74f825f87813",
   "metadata": {},
   "outputs": [
    {
     "data": {
      "text/plain": [
       "['z',\n",
       " 'y',\n",
       " 'x',\n",
       " 'w',\n",
       " 'v',\n",
       " 'u',\n",
       " 't',\n",
       " 's',\n",
       " 'r',\n",
       " 'q',\n",
       " 'p',\n",
       " 'o',\n",
       " 'n',\n",
       " 'm',\n",
       " 'l',\n",
       " 'k',\n",
       " 'j',\n",
       " 'i',\n",
       " 'h',\n",
       " 'g',\n",
       " 'f',\n",
       " 'e',\n",
       " 'd',\n",
       " 'c',\n",
       " 'b',\n",
       " 'a']"
      ]
     },
     "execution_count": 5,
     "metadata": {},
     "output_type": "execute_result"
    }
   ],
   "source": [
    "values_B = abc\n",
    "values_B.sort(reverse=True)\n",
    "values_B"
   ]
  },
  {
   "cell_type": "code",
   "execution_count": 6,
   "id": "66037c2c-8528-4694-becb-6dd81ce211da",
   "metadata": {},
   "outputs": [
    {
     "data": {
      "text/plain": [
       "10    z\n",
       "11    y\n",
       "12    x\n",
       "13    w\n",
       "14    v\n",
       "15    u\n",
       "16    t\n",
       "17    s\n",
       "18    r\n",
       "19    q\n",
       "20    p\n",
       "21    o\n",
       "22    n\n",
       "23    m\n",
       "24    l\n",
       "25    k\n",
       "26    j\n",
       "27    i\n",
       "28    h\n",
       "29    g\n",
       "30    f\n",
       "31    e\n",
       "32    d\n",
       "33    c\n",
       "34    b\n",
       "35    a\n",
       "dtype: object"
      ]
     },
     "execution_count": 6,
     "metadata": {},
     "output_type": "execute_result"
    }
   ],
   "source": [
    "index_B = values_A\n",
    "\n",
    "B = pd.Series(data = values_B, index = index_B)\n",
    "B"
   ]
  },
  {
   "cell_type": "code",
   "execution_count": 7,
   "id": "779e220a-ca97-4b05-b4ca-934eb7a74e5d",
   "metadata": {},
   "outputs": [
    {
     "data": {
      "text/plain": [
       "d    13\n",
       "e    14\n",
       "f    15\n",
       "g    16\n",
       "h    17\n",
       "i    18\n",
       "dtype: int64"
      ]
     },
     "execution_count": 7,
     "metadata": {},
     "output_type": "execute_result"
    }
   ],
   "source": [
    "A['d':'i']"
   ]
  },
  {
   "cell_type": "code",
   "execution_count": 8,
   "id": "b3c527d6-5520-4871-bd3c-3527ec8b7699",
   "metadata": {},
   "outputs": [
    {
     "data": {
      "text/plain": [
       "32    d\n",
       "dtype: object"
      ]
     },
     "execution_count": 8,
     "metadata": {},
     "output_type": "execute_result"
    }
   ],
   "source": [
    "B[B == 'd']"
   ]
  },
  {
   "cell_type": "code",
   "execution_count": 9,
   "id": "9d005953-e8bc-4a99-afab-14ee0587fda1",
   "metadata": {},
   "outputs": [
    {
     "data": {
      "text/plain": [
       "10    False\n",
       "11    False\n",
       "12    False\n",
       "13    False\n",
       "14    False\n",
       "15    False\n",
       "16    False\n",
       "17    False\n",
       "18    False\n",
       "19    False\n",
       "20    False\n",
       "21    False\n",
       "22    False\n",
       "23    False\n",
       "24    False\n",
       "25    False\n",
       "26    False\n",
       "27    False\n",
       "28    False\n",
       "29    False\n",
       "30    False\n",
       "31     True\n",
       "32     True\n",
       "33    False\n",
       "34    False\n",
       "35    False\n",
       "dtype: bool"
      ]
     },
     "execution_count": 9,
     "metadata": {},
     "output_type": "execute_result"
    }
   ],
   "source": [
    "B.isin(['d','e'])"
   ]
  },
  {
   "cell_type": "code",
   "execution_count": 10,
   "id": "2f273aae-d214-47b5-9601-21d84e7795c3",
   "metadata": {},
   "outputs": [
    {
     "data": {
      "text/plain": [
       "27    i\n",
       "28    h\n",
       "29    g\n",
       "30    f\n",
       "31    e\n",
       "32    d\n",
       "dtype: object"
      ]
     },
     "execution_count": 10,
     "metadata": {},
     "output_type": "execute_result"
    }
   ],
   "source": [
    "B[B.isin(['d','e','f','g','h','i'])]"
   ]
  },
  {
   "cell_type": "code",
   "execution_count": 11,
   "id": "f2fbccd2-a6ce-4ad1-b345-848e4e764f3d",
   "metadata": {},
   "outputs": [
    {
     "data": {
      "text/plain": [
       "27    i\n",
       "28    h\n",
       "29    g\n",
       "30    f\n",
       "31    e\n",
       "32    d\n",
       "dtype: object"
      ]
     },
     "execution_count": 11,
     "metadata": {},
     "output_type": "execute_result"
    }
   ],
   "source": [
    "B[(B <= 'i') & (B >= 'd')]"
   ]
  }
 ],
 "metadata": {
  "kernelspec": {
   "display_name": "Python 3",
   "language": "python",
   "name": "python3"
  },
  "language_info": {
   "codemirror_mode": {
    "name": "ipython",
    "version": 3
   },
   "file_extension": ".py",
   "mimetype": "text/x-python",
   "name": "python",
   "nbconvert_exporter": "python",
   "pygments_lexer": "ipython3",
   "version": "3.8.13"
  }
 },
 "nbformat": 4,
 "nbformat_minor": 5
}
