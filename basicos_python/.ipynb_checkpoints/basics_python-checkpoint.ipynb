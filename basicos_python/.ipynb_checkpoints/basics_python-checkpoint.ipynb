{
 "cells": [
  {
   "cell_type": "markdown",
   "id": "d7e750b3",
   "metadata": {},
   "source": [
    "# Conceptos básicos de Python"
   ]
  },
  {
   "cell_type": "markdown",
   "id": "0d7c8061",
   "metadata": {},
   "source": [
    "### Tipos de variables\n",
    "\n",
    "Variable: contenedor que guarda datos.\n",
    "\n",
    "```python\n",
    "Text Type:  \tstr\n",
    "Numeric Types:\tint, float, complex\n",
    "Sequence Types:\tlist, tuple, range\n",
    "Mapping Type:\tdict\n",
    "Set Types:  \tset\n",
    "Boolean Type:\tbool\n",
    "```\n",
    "\n",
    "A diferencia de otros lenguajes, no es necesario declarar el tipo de variable"
   ]
  },
  {
   "cell_type": "code",
   "execution_count": 2,
   "id": "3a12dc3f",
   "metadata": {},
   "outputs": [],
   "source": [
    "a=5"
   ]
  },
  {
   "cell_type": "code",
   "execution_count": 4,
   "id": "1476805f",
   "metadata": {},
   "outputs": [
    {
     "data": {
      "text/plain": [
       "int"
      ]
     },
     "execution_count": 4,
     "metadata": {},
     "output_type": "execute_result"
    }
   ],
   "source": [
    "type(a)"
   ]
  },
  {
   "cell_type": "markdown",
   "id": "61edd494",
   "metadata": {},
   "source": [
    "### Casting \n",
    "Cambiar el tipo de variable"
   ]
  },
  {
   "cell_type": "code",
   "execution_count": null,
   "id": "e66e018f",
   "metadata": {},
   "outputs": [],
   "source": []
  },
  {
   "cell_type": "markdown",
   "id": "28455b0d",
   "metadata": {},
   "source": [
    "### Nombrando variables\n",
    "\n",
    "_case-sensitive_\n",
    "\n",
    "Buenas prácticas: https://www.freecodecamp.org/news/snake-case-vs-camel-case-vs-pascal-case-vs-kebab-case-whats-the-difference/"
   ]
  },
  {
   "cell_type": "code",
   "execution_count": null,
   "id": "512c1e95",
   "metadata": {},
   "outputs": [],
   "source": []
  },
  {
   "cell_type": "markdown",
   "id": "1a0be893",
   "metadata": {},
   "source": [
    "### Operadores aritméticos\n",
    "\n",
    "### + - *  **  /  //  %"
   ]
  },
  {
   "cell_type": "code",
   "execution_count": null,
   "id": "4ba25a34",
   "metadata": {},
   "outputs": [],
   "source": []
  },
  {
   "cell_type": "markdown",
   "id": "31542712",
   "metadata": {},
   "source": [
    "### Operadores lógicos)"
   ]
  },
  {
   "cell_type": "markdown",
   "id": "fd76e453",
   "metadata": {},
   "source": [
    "### While/For loops"
   ]
  },
  {
   "cell_type": "markdown",
   "id": "f8ba2e3f",
   "metadata": {},
   "source": [
    "### Funciones"
   ]
  },
  {
   "cell_type": "markdown",
   "id": "4e1a599c",
   "metadata": {},
   "source": [
    "### listas "
   ]
  },
  {
   "cell_type": "markdown",
   "id": "f455117a",
   "metadata": {},
   "source": [
    "### dictionaries"
   ]
  },
  {
   "cell_type": "markdown",
   "id": "3c567977",
   "metadata": {},
   "source": [
    "### map/filter/lambda"
   ]
  },
  {
   "cell_type": "markdown",
   "id": "3be7a968",
   "metadata": {},
   "source": [
    "### Descarga/Lectura de datos (dat, txt, csv)"
   ]
  },
  {
   "cell_type": "code",
   "execution_count": null,
   "id": "4a342037",
   "metadata": {},
   "outputs": [],
   "source": []
  }
 ],
 "metadata": {
  "kernelspec": {
   "display_name": "Python 3",
   "language": "python",
   "name": "python3"
  },
  "language_info": {
   "codemirror_mode": {
    "name": "ipython",
    "version": 3
   },
   "file_extension": ".py",
   "mimetype": "text/x-python",
   "name": "python",
   "nbconvert_exporter": "python",
   "pygments_lexer": "ipython3",
   "version": "3.8.13"
  }
 },
 "nbformat": 4,
 "nbformat_minor": 5
}
