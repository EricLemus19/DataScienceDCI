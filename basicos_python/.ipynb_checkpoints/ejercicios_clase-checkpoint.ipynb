{
 "cells": [
  {
   "cell_type": "markdown",
   "metadata": {
    "id": "OF2nXJ8SxNDL"
   },
   "source": [
    "Ejercicio 1:\n",
    "\n",
    "leer documento con correos para:\n",
    "\n",
    "- obtener una lista con los diferentes dominios\n",
    "\n",
    "- crear nuevo documento indicando nombre de usuario y numero de vocales que contiene el nombre\n",
    "\n",
    "--------"
   ]
  },
  {
   "cell_type": "code",
   "execution_count": 1,
   "metadata": {
    "id": "zP2Y0IA8xOOg"
   },
   "outputs": [],
   "source": [
    "#Crear archivo con lista de correos\n",
    "\n",
    "f = open(\"lista_correos.txt\", \"w\")\n",
    "f.write(\"karla@gmail.com\\n\")\n",
    "f.write(\"123490909@ugto.mx\\n\")\n",
    "f.write(\"abc12349@hotmail.com\\n\")\n",
    "f.write(\"abc12349@gmail.com\\n\"*2)\n",
    "f.write(\"dci_ugto@ugto.mx\\n\"*3)\n",
    "f.close()"
   ]
  },
  {
   "cell_type": "code",
   "execution_count": 2,
   "metadata": {
    "colab": {
     "base_uri": "https://localhost:8080/"
    },
    "id": "pYvJkdWpx_YO",
    "outputId": "8a654750-2d7d-476e-8b85-7577267fcc03"
   },
   "outputs": [
    {
     "name": "stdout",
     "output_type": "stream",
     "text": [
      "Lista_dominios_unicos =  ['hotmail', 'gmail', 'ugto']\n"
     ]
    }
   ],
   "source": [
    "#Leer archivo con lista de correos\n",
    "\n",
    "f = open(\"lista_correos.txt\", \"r\")\n",
    "\n",
    "lista_dominios = [] \n",
    "vocales = 'aeiou'\n",
    "\n",
    "output = open(\"resultado_ejercicio1.txt\", \"w\") #archivo de salida\n",
    "output.write(\"%12s  %10s   \\n\"%(\"nombre\", \"# vocales\")) #cabecero del archivo de salida \n",
    "\n",
    "for i in f:\n",
    "    nombre = i.split('@')[0]\n",
    "    dominio = i.split('@')[1].split('.')[0]\n",
    "    lista_dominios.append(dominio) # añadir cada uno de los dominios a una lista\n",
    "\n",
    "    n_vocales = len([v for v in vocales if v in nombre]) # contar las vocales en nombre\n",
    "    output.write(\"%12s  %10d   \\n\"%(nombre, n_vocales )) # escribir salida\n",
    "\n",
    "output.close()\n",
    "\n",
    "Lista_dominios_unicos = list(set(lista_dominios)) # elementos unicos\n",
    "\n",
    "print('Lista_dominios_unicos = ', Lista_dominios_unicos)"
   ]
  },
  {
   "cell_type": "code",
   "execution_count": 3,
   "metadata": {
    "colab": {
     "base_uri": "https://localhost:8080/"
    },
    "id": "l8x83uAgEyyK",
    "outputId": "2310313e-53d1-491e-db3b-7ddca5523a44"
   },
   "outputs": [
    {
     "name": "stdout",
     "output_type": "stream",
     "text": [
      "      nombre   # vocales   \n",
      "       karla           1   \n",
      "   123490909           0   \n",
      "    abc12349           1   \n",
      "    abc12349           1   \n",
      "    abc12349           1   \n",
      "    dci_ugto           3   \n",
      "    dci_ugto           3   \n",
      "    dci_ugto           3   \n",
      "\n"
     ]
    }
   ],
   "source": [
    "f = open(\"resultado_ejercicio1.txt\", \"r\")\n",
    "print(f.read())\n"
   ]
  },
  {
   "cell_type": "code",
   "execution_count": 34,
   "metadata": {
    "colab": {
     "base_uri": "https://localhost:8080/"
    },
    "id": "veu4qbylBPEO",
    "outputId": "2a8788da-5a3e-4a0d-a9e1-48eebfc00757"
   },
   "outputs": [
    {
     "data": {
      "text/plain": [
       "['a', 'e', 'i', 'o', 'u']"
      ]
     },
     "execution_count": 34,
     "metadata": {},
     "output_type": "execute_result"
    }
   ],
   "source": [
    "[v for v in vocales]"
   ]
  },
  {
   "cell_type": "code",
   "execution_count": 37,
   "metadata": {
    "colab": {
     "base_uri": "https://localhost:8080/"
    },
    "id": "nTOXu0kLBgEE",
    "outputId": "87d35dc4-c0e5-4e93-884e-f4a79f09e9c7"
   },
   "outputs": [
    {
     "name": "stdout",
     "output_type": "stream",
     "text": [
      "dci_ugto\n"
     ]
    },
    {
     "data": {
      "text/plain": [
       "[False, False, True, True, True]"
      ]
     },
     "execution_count": 37,
     "metadata": {},
     "output_type": "execute_result"
    }
   ],
   "source": [
    "print(nombre)\n",
    "[v in nombre for v in vocales]"
   ]
  },
  {
   "cell_type": "code",
   "execution_count": 41,
   "metadata": {
    "colab": {
     "base_uri": "https://localhost:8080/"
    },
    "id": "OHhxTJ4fBzwp",
    "outputId": "8d47f7ce-4422-4f20-fc79-9fae7652e6b5"
   },
   "outputs": [
    {
     "data": {
      "text/plain": [
       "3"
      ]
     },
     "execution_count": 41,
     "metadata": {},
     "output_type": "execute_result"
    }
   ],
   "source": [
    "vocales_bool = [v in nombre for v in vocales]\n",
    "vocales_bool.count(True)"
   ]
  },
  {
   "cell_type": "code",
   "execution_count": 23,
   "metadata": {
    "colab": {
     "base_uri": "https://localhost:8080/"
    },
    "id": "iB6PoGlpyClF",
    "outputId": "0122ac74-ffe7-4edc-d7e7-4dce9f41c220"
   },
   "outputs": [
    {
     "data": {
      "text/plain": [
       "['i', 'o', 'u']"
      ]
     },
     "execution_count": 23,
     "metadata": {},
     "output_type": "execute_result"
    }
   ],
   "source": [
    " [v for v in vocales if v in nombre]"
   ]
  },
  {
   "cell_type": "code",
   "execution_count": 42,
   "metadata": {
    "colab": {
     "base_uri": "https://localhost:8080/"
    },
    "id": "gRRbjqhM-Qf9",
    "outputId": "63652097-3f20-4279-b990-e5c62132cf34"
   },
   "outputs": [
    {
     "data": {
      "text/plain": [
       "3"
      ]
     },
     "execution_count": 42,
     "metadata": {},
     "output_type": "execute_result"
    }
   ],
   "source": [
    "vocales_presentes = [v for v in vocales if v in nombre]\n",
    "len(vocales_presentes)"
   ]
  },
  {
   "cell_type": "code",
   "execution_count": 43,
   "metadata": {
    "colab": {
     "base_uri": "https://localhost:8080/"
    },
    "id": "F9RHRY-e-vsi",
    "outputId": "c22aa5b4-1981-4949-8006-be5564098925"
   },
   "outputs": [
    {
     "data": {
      "text/plain": [
       "3"
      ]
     },
     "execution_count": 43,
     "metadata": {},
     "output_type": "execute_result"
    }
   ],
   "source": [
    "len([v for v in vocales if v in nombre])"
   ]
  },
  {
   "cell_type": "code",
   "execution_count": 47,
   "metadata": {
    "id": "MNFvOI3OCxSp"
   },
   "outputs": [],
   "source": []
  },
  {
   "cell_type": "markdown",
   "metadata": {
    "id": "EiWEfnWEFy6n"
   },
   "source": [
    "Ejercicio 2:\n",
    "\n",
    "Descargar el archivo texto.txt y obtener:\n",
    "\n",
    "- Número de parrafos.\n",
    "\n",
    "- Número de palabras totales y número de palabras diferentes.\n",
    "\n",
    "- Número de caracteres y número caracteres de diferentes."
   ]
  },
  {
   "cell_type": "code",
   "execution_count": 70,
   "metadata": {
    "id": "CjTLCrx8Fyjc"
   },
   "outputs": [],
   "source": [
    "f = open(\"texto.txt\", \"w\")\n",
    "f.write(\"\"\"La ciencia de datos es un campo interdisciplinario que, con métodos científicos, extrae conocimiento de datos estructurados o no estructurados. Es una combinación de campos de análisis de datos como la estadística, la minería de datos, el aprendizaje automático, y la analítica predictiva.\n",
    "\n",
    "El concepto ciencia de datos reúne estadísticas, análisis de datos, aprendizaje automático, y sus métodos relacionados, para comprender y analizar los fenómenos reales. Emplea técnicas y teorías extraídas de muchos campos dentro del contexto de las matemáticas, la estadística, la ciencia de la información, y la informática.\n",
    "\n",
    "El ganador del premio Turing, Jim Gray, imaginó la ciencia de datos como un \"cuarto paradigma\" de la ciencia (empírico, teórico, computacional, y ahora basado en datos), y afirmó que \"todo lo relacionado con la ciencia está cambiando debido al impacto de la tecnología de la información y el diluvio de datos\".\n",
    "\n",
    "En este nuevo paradigma, los investigadores se apoyan de sistemas y procesos que son muy diferentes a los utilizados en el pasado, como son modelos, ecuaciones, algoritmos, así como evaluación e interpretación de resultados.\"\"\")\n",
    "f.close()"
   ]
  },
  {
   "cell_type": "code",
   "execution_count": 55,
   "metadata": {
    "id": "U_ns6Bq0Ksxb"
   },
   "outputs": [],
   "source": [
    "f = open(\"texto.txt\", \"r\")\n",
    "#print(f.read())\n",
    "t = f.read()"
   ]
  },
  {
   "cell_type": "code",
   "execution_count": 56,
   "metadata": {
    "colab": {
     "base_uri": "https://localhost:8080/",
     "height": 157
    },
    "id": "ab7rpUagLsN0",
    "outputId": "a266909d-6e1e-44bb-a649-f8527cf6d99c"
   },
   "outputs": [
    {
     "data": {
      "application/vnd.google.colaboratory.intrinsic+json": {
       "type": "string"
      },
      "text/plain": [
       "'La ciencia de datos es un campo interdisciplinario que, con métodos científicos, extrae conocimiento de datos estructurados o no estructurados1. Es una combinación de campos de análisis de datos como la estadística, la minería de datos, el aprendizaje automático, y la analítica predictiva.\\n\\nEl concepto ciencia de datos reúne estadísticas, análisis de datos, aprendizaje automático, y sus métodos relacionados, para comprender y analizar los fenómenos reales. Emplea técnicas y teorías extraídas de muchos campos dentro del contexto de las matemáticas, la estadística, la ciencia de la información, y la informática.\\n\\nEl ganador del premio Turing, Jim Gray, imaginó la ciencia de datos como un \"cuarto paradigma\" de la ciencia (empírico, teórico, computacional, y ahora basado en datos), y afirmó que \"todo lo relacionado con la ciencia está cambiando debido al impacto de la tecnología de la información y el diluvio de datos\".\\n\\nEn este nuevo paradigma, los investigadores se apoyan de sistemas y procesos que son muy diferentes a los utilizados en el pasado, como son modelos, ecuaciones, algoritmos, así como evaluación e interpretación de resultados.'"
      ]
     },
     "execution_count": 56,
     "metadata": {},
     "output_type": "execute_result"
    }
   ],
   "source": [
    "t"
   ]
  },
  {
   "cell_type": "code",
   "execution_count": 57,
   "metadata": {
    "colab": {
     "base_uri": "https://localhost:8080/"
    },
    "id": "LrBSuAJlKxrJ",
    "outputId": "fe55de29-048b-41d9-9a09-2bd8647150e1"
   },
   "outputs": [
    {
     "data": {
      "text/plain": [
       "['La ciencia de datos es un campo interdisciplinario que, con métodos científicos, extrae conocimiento de datos estructurados o no estructurados1. Es una combinación de campos de análisis de datos como la estadística, la minería de datos, el aprendizaje automático, y la analítica predictiva.',\n",
       " 'El concepto ciencia de datos reúne estadísticas, análisis de datos, aprendizaje automático, y sus métodos relacionados, para comprender y analizar los fenómenos reales. Emplea técnicas y teorías extraídas de muchos campos dentro del contexto de las matemáticas, la estadística, la ciencia de la información, y la informática.',\n",
       " 'El ganador del premio Turing, Jim Gray, imaginó la ciencia de datos como un \"cuarto paradigma\" de la ciencia (empírico, teórico, computacional, y ahora basado en datos), y afirmó que \"todo lo relacionado con la ciencia está cambiando debido al impacto de la tecnología de la información y el diluvio de datos\".',\n",
       " 'En este nuevo paradigma, los investigadores se apoyan de sistemas y procesos que son muy diferentes a los utilizados en el pasado, como son modelos, ecuaciones, algoritmos, así como evaluación e interpretación de resultados.']"
      ]
     },
     "execution_count": 57,
     "metadata": {},
     "output_type": "execute_result"
    }
   ],
   "source": [
    "t.split('\\n\\n')"
   ]
  },
  {
   "cell_type": "code",
   "execution_count": 65,
   "metadata": {
    "colab": {
     "base_uri": "https://localhost:8080/"
    },
    "id": "PS8xsjQlLWdf",
    "outputId": "5c392b16-5f67-4d60-a9dd-d02142695003"
   },
   "outputs": [
    {
     "data": {
      "text/plain": [
       "110"
      ]
     },
     "execution_count": 65,
     "metadata": {},
     "output_type": "execute_result"
    }
   ],
   "source": [
    "t_sin_parrafos = t.replace('\\n\\n',' ')\n",
    "len(set(t_sin_parrafos.split(' '))) # ** palabras con , \" () cuentan como diferentes"
   ]
  },
  {
   "cell_type": "code",
   "execution_count": 69,
   "metadata": {
    "colab": {
     "base_uri": "https://localhost:8080/"
    },
    "id": "0tYI0DepMCwM",
    "outputId": "eee271c4-0a33-456b-8797-5d496381d1ca"
   },
   "outputs": [
    {
     "data": {
      "text/plain": [
       "{' ',\n",
       " '\"',\n",
       " '(',\n",
       " ')',\n",
       " ',',\n",
       " '.',\n",
       " '1',\n",
       " 'E',\n",
       " 'G',\n",
       " 'J',\n",
       " 'L',\n",
       " 'T',\n",
       " 'a',\n",
       " 'b',\n",
       " 'c',\n",
       " 'd',\n",
       " 'e',\n",
       " 'f',\n",
       " 'g',\n",
       " 'h',\n",
       " 'i',\n",
       " 'j',\n",
       " 'l',\n",
       " 'm',\n",
       " 'n',\n",
       " 'o',\n",
       " 'p',\n",
       " 'q',\n",
       " 'r',\n",
       " 's',\n",
       " 't',\n",
       " 'u',\n",
       " 'v',\n",
       " 'x',\n",
       " 'y',\n",
       " 'z',\n",
       " 'á',\n",
       " 'é',\n",
       " 'í',\n",
       " 'ó',\n",
       " 'ú'}"
      ]
     },
     "execution_count": 69,
     "metadata": {},
     "output_type": "execute_result"
    }
   ],
   "source": [
    "set(t_sin_parrafos)"
   ]
  },
  {
   "cell_type": "code",
   "execution_count": null,
   "metadata": {
    "id": "7iJ3ZGDVL0sU"
   },
   "outputs": [],
   "source": [
    "n_parrafos = len(t.split('\\n\\n'))\n",
    "n_palabras_totales = len(t_sin_parrafos.split(' '))\n",
    "n_palabras_distintas = len(t_sin_parrafos.split(' '))\n",
    "n_caracteres = len(t_sin_parrafos)\n",
    "n_caracteres_distintos = len(set(t_sin_parrafos))"
   ]
  }
 ],
 "metadata": {
  "colab": {
   "provenance": []
  },
  "kernelspec": {
   "display_name": "Python 3",
   "language": "python",
   "name": "python3"
  },
  "language_info": {
   "codemirror_mode": {
    "name": "ipython",
    "version": 3
   },
   "file_extension": ".py",
   "mimetype": "text/x-python",
   "name": "python",
   "nbconvert_exporter": "python",
   "pygments_lexer": "ipython3",
   "version": "3.8.13"
  }
 },
 "nbformat": 4,
 "nbformat_minor": 1
}
