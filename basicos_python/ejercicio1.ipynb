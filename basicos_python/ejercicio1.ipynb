{
 "cells": [
  {
   "cell_type": "markdown",
   "metadata": {
    "id": "OF2nXJ8SxNDL"
   },
   "source": [
    "--------\n",
    "\n",
    "## Ejercicio 1:\n",
    "\n",
    "leer documento con correos para:\n",
    "\n",
    "- obtener una lista con los diferentes dominios\n",
    "\n",
    "- crear nuevo documento indicando nombre de usuario y numero de vocales que contiene el nombre\n",
    "\n",
    "--------\n",
    "\n",
    "\n",
    "\n",
    "#### Solución"
   ]
  },
  {
   "cell_type": "code",
   "execution_count": 21,
   "metadata": {
    "id": "zP2Y0IA8xOOg"
   },
   "outputs": [],
   "source": [
    "#Crear archivo con lista de correos\n",
    "\n",
    "f = open(\"lista_correos.txt\", \"w\")\n",
    "f.write(\"karla@gmail.com\\n\")\n",
    "f.write(\"123490909@ugto.mx\\n\")\n",
    "f.write(\"mariana12349@hotmail.com\\n\")\n",
    "f.write(\"abc12349@gmail.com\\n\"*2)\n",
    "f.write(\"dci_ugto@ugto.mx\\n\"*3)\n",
    "f.close()"
   ]
  },
  {
   "cell_type": "code",
   "execution_count": 22,
   "metadata": {
    "colab": {
     "base_uri": "https://localhost:8080/"
    },
    "id": "pYvJkdWpx_YO",
    "outputId": "8a654750-2d7d-476e-8b85-7577267fcc03"
   },
   "outputs": [
    {
     "name": "stdout",
     "output_type": "stream",
     "text": [
      "Lista_dominios_unicos =  ['ugto', 'hotmail', 'gmail']\n"
     ]
    }
   ],
   "source": [
    "#Leer archivo con lista de correos\n",
    "\n",
    "f = open(\"lista_correos.txt\", \"r\")\n",
    "\n",
    "lista_dominios = [] \n",
    "vocales = 'aeiou'\n",
    "\n",
    "output = open(\"resultado_ejercicio1.txt\", \"w\") #archivo de salida\n",
    "output.write(\"%12s  %10s   \\n\"%(\"nombre\", \"# vocales\")) #cabecero del archivo de salida \n",
    "\n",
    "for i in f:\n",
    "    nombre = i.split('@')[0]\n",
    "    dominio = i.split('@')[1].split('.')[0]\n",
    "    lista_dominios.append(dominio) # añadir cada uno de los dominios a una lista\n",
    "\n",
    "    n_vocales = [l in vocales for l in nombre].count(True) # contar las vocales en nombre\n",
    "    output.write(\"%12s  %10d   \\n\"%(nombre, n_vocales )) # escribir salida\n",
    "\n",
    "output.close()\n",
    "\n",
    "Lista_dominios_unicos = list(set(lista_dominios)) # elementos unicos\n",
    "\n",
    "print('Lista_dominios_unicos = ', Lista_dominios_unicos)"
   ]
  },
  {
   "cell_type": "markdown",
   "metadata": {},
   "source": [
    "### Verificar"
   ]
  },
  {
   "cell_type": "code",
   "execution_count": 23,
   "metadata": {
    "colab": {
     "base_uri": "https://localhost:8080/"
    },
    "id": "l8x83uAgEyyK",
    "outputId": "2310313e-53d1-491e-db3b-7ddca5523a44"
   },
   "outputs": [
    {
     "name": "stdout",
     "output_type": "stream",
     "text": [
      "      nombre   # vocales   \n",
      "       karla           2   \n",
      "   123490909           0   \n",
      "mariana12349           4   \n",
      "    abc12349           1   \n",
      "    abc12349           1   \n",
      "    dci_ugto           3   \n",
      "    dci_ugto           3   \n",
      "    dci_ugto           3   \n",
      "\n"
     ]
    }
   ],
   "source": [
    "f = open(\"resultado_ejercicio1.txt\", \"r\")\n",
    "print(f.read())\n"
   ]
  },
  {
   "cell_type": "code",
   "execution_count": null,
   "metadata": {},
   "outputs": [],
   "source": []
  }
 ],
 "metadata": {
  "colab": {
   "provenance": []
  },
  "kernelspec": {
   "display_name": "Python 3",
   "language": "python",
   "name": "python3"
  },
  "language_info": {
   "codemirror_mode": {
    "name": "ipython",
    "version": 3
   },
   "file_extension": ".py",
   "mimetype": "text/x-python",
   "name": "python",
   "nbconvert_exporter": "python",
   "pygments_lexer": "ipython3",
   "version": "3.8.13"
  }
 },
 "nbformat": 4,
 "nbformat_minor": 1
}
