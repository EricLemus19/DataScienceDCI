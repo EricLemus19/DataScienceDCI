{
 "cells": [
  {
   "cell_type": "markdown",
   "metadata": {
    "id": "EiWEfnWEFy6n"
   },
   "source": [
    "-------\n",
    "\n",
    "## Ejercicio 2:\n",
    "\n",
    "Descargar el archivo ciencia_de_datos_wikipedia.txt y obtener:\n",
    "\n",
    "- Número de parrafos.\n",
    "\n",
    "- Número de palabras totales y número de palabras diferentes.\n",
    "\n",
    "- Número de caracteres totales y número caracteres de diferentes.\n",
    "\n",
    "-------\n"
   ]
  },
  {
   "cell_type": "code",
   "execution_count": 1,
   "metadata": {
    "id": "U_ns6Bq0Ksxb"
   },
   "outputs": [],
   "source": [
    "f = open(\"ciencia_de_datos_wikipedia.txt\", \"r\")\n",
    "t = f.read()"
   ]
  },
  {
   "cell_type": "code",
   "execution_count": 2,
   "metadata": {
    "colab": {
     "base_uri": "https://localhost:8080/",
     "height": 157
    },
    "id": "ab7rpUagLsN0",
    "outputId": "a266909d-6e1e-44bb-a649-f8527cf6d99c"
   },
   "outputs": [
    {
     "data": {
      "text/plain": [
       "'La ciencia de datos es un campo interdisciplinario que, con métodos científicos, extrae conocimiento de datos estructurados o no estructurados. Es una combinación de campos de análisis de datos como la estadística, la minería de datos, el aprendizaje automático, y la analítica predictiva.\\n\\nEl concepto ciencia de datos reúne estadísticas, análisis de datos, aprendizaje automático, y sus métodos relacionados, para comprender y analizar los fenómenos reales. Emplea técnicas y teorías extraídas de muchos campos dentro del contexto de las matemáticas, la estadística, la ciencia de la información, y la informática.\\n\\nEl ganador del premio Turing, Jim Gray, imaginó la ciencia de datos como un \"cuarto paradigma\" de la ciencia (empírico, teórico, computacional, y ahora basado en datos), y afirmó que \"todo lo relacionado con la ciencia está cambiando debido al impacto de la tecnología de la información y el diluvio de datos\".\\n\\nEn este nuevo paradigma, los investigadores se apoyan de sistemas y procesos que son muy diferentes a los utilizados en el pasado, como son modelos, ecuaciones, algoritmos, así como evaluación e interpretación de resultados.\\n'"
      ]
     },
     "execution_count": 2,
     "metadata": {},
     "output_type": "execute_result"
    }
   ],
   "source": [
    "t"
   ]
  },
  {
   "cell_type": "code",
   "execution_count": 28,
   "metadata": {
    "colab": {
     "base_uri": "https://localhost:8080/"
    },
    "id": "LrBSuAJlKxrJ",
    "outputId": "fe55de29-048b-41d9-9a09-2bd8647150e1"
   },
   "outputs": [
    {
     "name": "stdout",
     "output_type": "stream",
     "text": [
      "['La ciencia de datos es un campo interdisciplinario que, con métodos científicos, extrae conocimiento de datos estructurados o no estructurados. Es una combinación de campos de análisis de datos como la estadística, la minería de datos, el aprendizaje automático, y la analítica predictiva.', 'El concepto ciencia de datos reúne estadísticas, análisis de datos, aprendizaje automático, y sus métodos relacionados, para comprender y analizar los fenómenos reales. Emplea técnicas y teorías extraídas de muchos campos dentro del contexto de las matemáticas, la estadística, la ciencia de la información, y la informática.', 'El ganador del premio Turing, Jim Gray, imaginó la ciencia de datos como un \"cuarto paradigma\" de la ciencia (empírico, teórico, computacional, y ahora basado en datos), y afirmó que \"todo lo relacionado con la ciencia está cambiando debido al impacto de la tecnología de la información y el diluvio de datos\".', 'En este nuevo paradigma, los investigadores se apoyan de sistemas y procesos que son muy diferentes a los utilizados en el pasado, como son modelos, ecuaciones, algoritmos, así como evaluación e interpretación de resultados.\\n']\n"
     ]
    }
   ],
   "source": [
    "print(t.split('\\n\\n'))\n",
    "n_parrafos = len(t.split('\\n\\n'))"
   ]
  },
  {
   "cell_type": "code",
   "execution_count": 3,
   "metadata": {},
   "outputs": [
    {
     "name": "stdout",
     "output_type": "stream",
     "text": [
      "['La ciencia de datos es un campo interdisciplinario que, con métodos científicos, extrae conocimiento de datos estructurados o no estructurados. Es una combinación de campos de análisis de datos como la estadística, la minería de datos, el aprendizaje automático, y la analítica predictiva.', 'El concepto ciencia de datos reúne estadísticas, análisis de datos, aprendizaje automático, y sus métodos relacionados, para comprender y analizar los fenómenos reales. Emplea técnicas y teorías extraídas de muchos campos dentro del contexto de las matemáticas, la estadística, la ciencia de la información, y la informática.', 'El ganador del premio Turing, Jim Gray, imaginó la ciencia de datos como un \"cuarto paradigma\" de la ciencia (empírico, teórico, computacional, y ahora basado en datos), y afirmó que \"todo lo relacionado con la ciencia está cambiando debido al impacto de la tecnología de la información y el diluvio de datos\".', 'En este nuevo paradigma, los investigadores se apoyan de sistemas y procesos que son muy diferentes a los utilizados en el pasado, como son modelos, ecuaciones, algoritmos, así como evaluación e interpretación de resultados.\\n']\n"
     ]
    }
   ],
   "source": [
    "print(t.split('\\n\\n'))"
   ]
  },
  {
   "cell_type": "code",
   "execution_count": 34,
   "metadata": {
    "colab": {
     "base_uri": "https://localhost:8080/"
    },
    "id": "PS8xsjQlLWdf",
    "outputId": "5c392b16-5f67-4d60-a9dd-d02142695003"
   },
   "outputs": [
    {
     "name": "stdout",
     "output_type": "stream",
     "text": [
      "La ciencia de datos es un campo interdisciplinario que, con métodos científicos, extrae conocimiento de datos estructurados o no estructurados. Es una combinación de campos de análisis de datos como la estadística, la minería de datos, el aprendizaje automático, y la analítica predictiva. El concepto ciencia de datos reúne estadísticas, análisis de datos, aprendizaje automático, y sus métodos relacionados, para comprender y analizar los fenómenos reales. Emplea técnicas y teorías extraídas de muchos campos dentro del contexto de las matemáticas, la estadística, la ciencia de la información, y la informática. El ganador del premio Turing, Jim Gray, imaginó la ciencia de datos como un \"cuarto paradigma\" de la ciencia (empírico, teórico, computacional, y ahora basado en datos), y afirmó que \"todo lo relacionado con la ciencia está cambiando debido al impacto de la tecnología de la información y el diluvio de datos\". En este nuevo paradigma, los investigadores se apoyan de sistemas y procesos que son muy diferentes a los utilizados en el pasado, como son modelos, ecuaciones, algoritmos, así como evaluación e interpretación de resultados.\n"
     ]
    },
    {
     "data": {
      "text/plain": [
       "{' ',\n",
       " '\"',\n",
       " '(',\n",
       " ')',\n",
       " ',',\n",
       " '.',\n",
       " 'E',\n",
       " 'G',\n",
       " 'J',\n",
       " 'L',\n",
       " 'T',\n",
       " 'a',\n",
       " 'b',\n",
       " 'c',\n",
       " 'd',\n",
       " 'e',\n",
       " 'f',\n",
       " 'g',\n",
       " 'h',\n",
       " 'i',\n",
       " 'j',\n",
       " 'l',\n",
       " 'm',\n",
       " 'n',\n",
       " 'o',\n",
       " 'p',\n",
       " 'q',\n",
       " 'r',\n",
       " 's',\n",
       " 't',\n",
       " 'u',\n",
       " 'v',\n",
       " 'x',\n",
       " 'y',\n",
       " 'z',\n",
       " 'á',\n",
       " 'é',\n",
       " 'í',\n",
       " 'ó',\n",
       " 'ú'}"
      ]
     },
     "execution_count": 34,
     "metadata": {},
     "output_type": "execute_result"
    }
   ],
   "source": [
    "t_sin_parrafos = t.replace('\\n\\n',' ')\n",
    "t_sin_parrafos = t_sin_parrafos.replace('\\n','')\n",
    "print(t_sin_parrafos)\n",
    "n_caracteres = len(t_sin_parrafos)\n",
    "n_caracteres_distintos = len(set(t_sin_parrafos))\n",
    "set(t_sin_parrafos)"
   ]
  },
  {
   "cell_type": "code",
   "execution_count": 38,
   "metadata": {},
   "outputs": [],
   "source": [
    "t_sin_c_especiales = t_sin_parrafos.replace('.','')\n",
    "t_sin_c_especiales = t_sin_c_especiales.replace(',','')\n",
    "t_sin_c_especiales = t_sin_c_especiales.replace('(','')\n",
    "t_sin_c_especiales = t_sin_c_especiales.replace(')','')\n",
    "t_sin_c_especiales = t_sin_c_especiales.replace('\"','')\n",
    "n_palabras_totales = len(t_sin_c_especiales.split(' '))"
   ]
  },
  {
   "cell_type": "code",
   "execution_count": 52,
   "metadata": {},
   "outputs": [
    {
     "data": {
      "text/plain": [
       "99"
      ]
     },
     "execution_count": 52,
     "metadata": {},
     "output_type": "execute_result"
    }
   ],
   "source": [
    "set([p.lower() for p in t_sin_c_especiales.split(' ')])\n",
    "n_palabras_distintas = len(set([p.lower() for p in t_sin_c_especiales.split(' ')]))\n",
    "n_palabras_distintas"
   ]
  },
  {
   "cell_type": "code",
   "execution_count": 53,
   "metadata": {},
   "outputs": [
    {
     "name": "stdout",
     "output_type": "stream",
     "text": [
      " n_parrafos                     4\n",
      " n_palabras_totales           176\n",
      " n_palabras_distintas          99\n",
      " n_caracteres                1151\n",
      " n_caracteres_distintos        40\n"
     ]
    }
   ],
   "source": [
    "print(\" %-25s  %5d\"%('n_parrafos', n_parrafos))\n",
    "print(\" %-25s  %5d\"%('n_palabras_totales', n_palabras_totales))\n",
    "print(\" %-25s  %5d\"%('n_palabras_distintas', n_palabras_distintas))\n",
    "print(\" %-25s  %5d\"%('n_caracteres', n_caracteres))\n",
    "print(\" %-25s  %5d\"%('n_caracteres_distintos', n_caracteres_distintos))"
   ]
  },
  {
   "cell_type": "code",
   "execution_count": null,
   "metadata": {},
   "outputs": [],
   "source": []
  }
 ],
 "metadata": {
  "colab": {
   "provenance": []
  },
  "kernelspec": {
   "display_name": "Python 3 (ipykernel)",
   "language": "python",
   "name": "python3"
  },
  "language_info": {
   "codemirror_mode": {
    "name": "ipython",
    "version": 3
   },
   "file_extension": ".py",
   "mimetype": "text/x-python",
   "name": "python",
   "nbconvert_exporter": "python",
   "pygments_lexer": "ipython3",
   "version": "3.9.13"
  }
 },
 "nbformat": 4,
 "nbformat_minor": 1
}
